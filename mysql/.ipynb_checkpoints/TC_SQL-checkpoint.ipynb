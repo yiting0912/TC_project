{
 "cells": [
  {
   "cell_type": "code",
   "execution_count": 3,
   "id": "575502b2",
   "metadata": {},
   "outputs": [],
   "source": [
    "import mysql.connector\n",
    "import pymysql\n",
    "\n",
    "host = 'localhost'\n",
    "port = 3306\n",
    "user = 'root'\n",
    "passwd = 'root'\n",
    "db = 'cocoa'\n",
    "charset = 'utf8mb4'\n",
    "\n",
    "# connection = mysql.connector.connect(host='localhost',\n",
    "#                                      database='cocoa',\n",
    "#                                      user='root',\n",
    "#                                      passwd='root')\n",
    "\n",
    "connection = pymysql.connect(host=host, port=port, user=user, passwd=passwd, db=db, charset=charset)\n",
    "\n",
    "# mycursor = connector.cursor()\n",
    "mycursor = connection.cursor()\n",
    "\n",
    "\n",
    "mycursor.execute(\"SELECT * FROM tc_menu\")\n",
    "\n",
    "myresult = mycursor.fetchall()\n",
    "\n",
    "# connection.close()\n",
    "# mycursor.close()\n",
    "\n",
    "for x in myresult:\n",
    "    print(x)"
   ]
  },
  {
   "cell_type": "code",
   "execution_count": null,
   "id": "9d56df1e",
   "metadata": {},
   "outputs": [],
   "source": [
    "# import pymysql\n",
    "\n",
    "# host = 'localhost'\n",
    "# port = 3306\n",
    "# user = 'root'\n",
    "# passwd = 'root'\n",
    "# db = 'cocoa'\n",
    "# charset = 'utf8mb4'\n",
    "\n",
    "# conn = pymysql.connect(host=host, port=port, user=user, passwd=passwd, db=db, charset=charset)\n",
    "# print('Successfully connected!')\n",
    "\n",
    "# cursor = conn.cursor()"
   ]
  },
  {
   "cell_type": "code",
   "execution_count": null,
   "id": "a68df485",
   "metadata": {},
   "outputs": [],
   "source": [
    "with open(/Users/yiting/Documents/Group1/cocoa_project/TC_Data.csv, 'r', encoding='utf8') as f:\n",
    "    reader = f.readline()\n",
    "    print(reader)\n",
    "    devide = reader.split(',')  # 做成列表\n",
    "    devide[-1] = devide[-1].rstrip('\\n')   # 去除最后的换行符\n",
    "    print(devide)"
   ]
  },
  {
   "cell_type": "code",
   "execution_count": null,
   "id": "11c44137",
   "metadata": {},
   "outputs": [],
   "source": [
    "column = ''\n",
    "for dd in devide:\n",
    "    column = column + dd + ' varchar(255),'"
   ]
  },
  {
   "cell_type": "code",
   "execution_count": null,
   "id": "513cc7f4",
   "metadata": {},
   "outputs": [],
   "source": [
    "col = column.rstrip(',')"
   ]
  },
  {
   "cell_type": "code",
   "execution_count": null,
   "id": "24ea8ac3",
   "metadata": {},
   "outputs": [],
   "source": [
    "table_name = \"cocoaport\"\n",
    "create_table_sql = 'create table if not exists {} ({}) DEFAULT CHARSET=utf8'\\\n",
    "    .format(table_name, col)\n",
    "cur.execute(create_table_sql)"
   ]
  },
  {
   "cell_type": "code",
   "execution_count": null,
   "id": "0e16d6a8",
   "metadata": {},
   "outputs": [],
   "source": [
    "file_path = \"TC_Data.csv\"\n",
    "data = 'LOAD DATA LOCAL INFILE \\'' + file_path \\\n",
    "       + '\\'REPLACE INTO TABLE ' \\\n",
    "       + table_name \\\n",
    "       + 'CHARACTER SET UTF8 FIELDS TERMINATED BY \\',' \\\n",
    "         '\\' ENCLOSED BY \\'\\\"\\' ' \\\n",
    "         'LINES TERMINATED BY \\'\\n\\' IGNORE 1 LINES;'\n",
    "cur.execute(data.encode('utf8'))"
   ]
  },
  {
   "cell_type": "code",
   "execution_count": null,
   "id": "98ef7276",
   "metadata": {},
   "outputs": [],
   "source": [
    "con.commit()"
   ]
  },
  {
   "cell_type": "code",
   "execution_count": null,
   "id": "a4e2a789",
   "metadata": {},
   "outputs": [],
   "source": []
  },
  {
   "cell_type": "code",
   "execution_count": null,
   "id": "a9a12520",
   "metadata": {},
   "outputs": [],
   "source": []
  },
  {
   "cell_type": "code",
   "execution_count": null,
   "id": "67549590",
   "metadata": {},
   "outputs": [],
   "source": [
    "# password"
   ]
  },
  {
   "cell_type": "code",
   "execution_count": null,
   "id": "97a55a25",
   "metadata": {},
   "outputs": [],
   "source": [
    "cur.close()\n",
    "con.close()"
   ]
  },
  {
   "cell_type": "code",
   "execution_count": null,
   "id": "b554bce7",
   "metadata": {},
   "outputs": [],
   "source": []
  },
  {
   "cell_type": "code",
   "execution_count": null,
   "id": "ed62b8d7",
   "metadata": {},
   "outputs": [],
   "source": []
  }
 ],
 "metadata": {
  "kernelspec": {
   "display_name": "Python 3",
   "language": "python",
   "name": "python3"
  },
  "language_info": {
   "codemirror_mode": {
    "name": "ipython",
    "version": 3
   },
   "file_extension": ".py",
   "mimetype": "text/x-python",
   "name": "python",
   "nbconvert_exporter": "python",
   "pygments_lexer": "ipython3",
   "version": "3.6.13"
  }
 },
 "nbformat": 4,
 "nbformat_minor": 5
}
