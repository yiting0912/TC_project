{
 "cells": [
  {
   "cell_type": "code",
   "execution_count": 14,
   "id": "c48d6681-68b9-4cef-9d5d-eb1b38c28da0",
   "metadata": {},
   "outputs": [
    {
     "name": "stdout",
     "output_type": "stream",
     "text": [
      "Successfully connected!\n"
     ]
    }
   ],
   "source": [
    "# 連接資料庫\n",
    "# import pymysql\n",
    "\n",
    "# host = 'localhost'\n",
    "# port = 3306\n",
    "# user = 'root'\n",
    "# passwd = 'root'\n",
    "# db = 'cocoa'\n",
    "# charset = 'utf8mb4'\n",
    "\n",
    "# conn = pymysql.connect(host=host, port=port, user=user, passwd=passwd, db=db, charset=charset)\n",
    "# print('Successfully connected!')\n",
    "\n",
    "# cursor = conn.cursor()"
   ]
  },
  {
   "cell_type": "code",
   "execution_count": 24,
   "id": "10181097-ad38-45c7-9ce6-702976ea0341",
   "metadata": {},
   "outputs": [],
   "source": [
    "# 關閉連線\n",
    "# cursor.close()\n",
    "# conn.close()"
   ]
  },
  {
   "cell_type": "code",
   "execution_count": null,
   "id": "85ffddcc-8121-4f7b-8c54-d582e7236c6e",
   "metadata": {},
   "outputs": [],
   "source": [
    "# 移除表格\n",
    "# mycursor.execute('DROP TABLE IF EXISTS tc_menu')"
   ]
  },
  {
   "cell_type": "code",
   "execution_count": 25,
   "id": "dc3e67ec-8c5d-4ab9-a2c4-6b0abc7a9428",
   "metadata": {},
   "outputs": [
    {
     "data": {
      "text/html": [
       "<div>\n",
       "<style scoped>\n",
       "    .dataframe tbody tr th:only-of-type {\n",
       "        vertical-align: middle;\n",
       "    }\n",
       "\n",
       "    .dataframe tbody tr th {\n",
       "        vertical-align: top;\n",
       "    }\n",
       "\n",
       "    .dataframe thead th {\n",
       "        text-align: right;\n",
       "    }\n",
       "</style>\n",
       "<table border=\"1\" class=\"dataframe\">\n",
       "  <thead>\n",
       "    <tr style=\"text-align: right;\">\n",
       "      <th></th>\n",
       "      <th>product_ID</th>\n",
       "      <th>product_name</th>\n",
       "      <th>product_price</th>\n",
       "    </tr>\n",
       "  </thead>\n",
       "  <tbody>\n",
       "    <tr>\n",
       "      <th>0</th>\n",
       "      <td>1</td>\n",
       "      <td>TC-綜合巧克力禮盒(小盒)</td>\n",
       "      <td>650</td>\n",
       "    </tr>\n",
       "    <tr>\n",
       "      <th>1</th>\n",
       "      <td>2</td>\n",
       "      <td>TC-柴燒黑糖巧克力</td>\n",
       "      <td>350</td>\n",
       "    </tr>\n",
       "    <tr>\n",
       "      <th>2</th>\n",
       "      <td>3</td>\n",
       "      <td>TC-100%無糖巧克力磚</td>\n",
       "      <td>350</td>\n",
       "    </tr>\n",
       "    <tr>\n",
       "      <th>3</th>\n",
       "      <td>4</td>\n",
       "      <td>TC-95%巧克力磚</td>\n",
       "      <td>350</td>\n",
       "    </tr>\n",
       "    <tr>\n",
       "      <th>4</th>\n",
       "      <td>5</td>\n",
       "      <td>TC-85%巧克力磚</td>\n",
       "      <td>350</td>\n",
       "    </tr>\n",
       "  </tbody>\n",
       "</table>\n",
       "</div>"
      ],
      "text/plain": [
       "   product_ID    product_name product_price\n",
       "0           1  TC-綜合巧克力禮盒(小盒)           650\n",
       "1           2      TC-柴燒黑糖巧克力           350\n",
       "2           3   TC-100%無糖巧克力磚           350\n",
       "3           4      TC-95%巧克力磚           350\n",
       "4           5      TC-85%巧克力磚           350"
      ]
     },
     "execution_count": 25,
     "metadata": {},
     "output_type": "execute_result"
    }
   ],
   "source": [
    "import pandas as pd\n",
    "empdata = pd.read_csv('/Users/yiting/Documents/Group1/TC_project/mysql/tc_menu.csv', index_col=False, delimiter = ',')\n",
    "empdata.head()"
   ]
  },
  {
   "cell_type": "code",
   "execution_count": 27,
   "id": "48f8d058-4a47-477c-87eb-382014e1715c",
   "metadata": {},
   "outputs": [
    {
     "name": "stdout",
     "output_type": "stream",
     "text": [
      "Database is created\n"
     ]
    }
   ],
   "source": [
    "import mysql.connector as mysql\n",
    "from mysql.connector import Error\n",
    "try:\n",
    "    conn = mysql.connect(host='localhost', user='root',  \n",
    "                        password='root')#give ur username, password\n",
    "    if conn.is_connected():\n",
    "        cursor = conn.cursor()\n",
    "        cursor.execute(\"CREATE DATABASE TC_test\")\n",
    "        print(\"Database is created\")\n",
    "except Error as e:\n",
    "    print(\"Error while connecting to MySQL\", e)"
   ]
  },
  {
   "cell_type": "code",
   "execution_count": 31,
   "id": "291af5f8-0823-4396-b5e0-3ca6d2d812c1",
   "metadata": {},
   "outputs": [
    {
     "name": "stdout",
     "output_type": "stream",
     "text": [
      "You're connected to database:  ('tc_test',)\n",
      "Creating table....\n",
      "Table is created....\n",
      "Record inserted\n",
      "Record inserted\n",
      "Record inserted\n",
      "Record inserted\n",
      "Record inserted\n",
      "Record inserted\n",
      "Record inserted\n",
      "Record inserted\n",
      "Record inserted\n",
      "Record inserted\n",
      "Record inserted\n",
      "Record inserted\n",
      "Record inserted\n",
      "Record inserted\n",
      "Record inserted\n",
      "Record inserted\n",
      "Record inserted\n",
      "Record inserted\n",
      "Record inserted\n",
      "Error while connecting to MySQL 1265 (01000): Data truncated for column 'price' at row 1\n"
     ]
    }
   ],
   "source": [
    "import mysql.connector as mysql\n",
    "from mysql.connector import Error\n",
    "try:\n",
    "    conn = mysql.connect(host='localhost', database='TC_test', user='root', password='root')\n",
    "    if conn.is_connected():\n",
    "        cursor = conn.cursor()\n",
    "        cursor.execute(\"select database();\")\n",
    "        record = cursor.fetchone()\n",
    "        print(\"You're connected to database: \", record)\n",
    "        cursor.execute('DROP TABLE IF EXISTS test_data;')\n",
    "        print('Creating table....')\n",
    "# in the below line please pass the create table statement which you want #to create\n",
    "        cursor.execute(\"CREATE TABLE test_data(ID varchar(255),name varchar(255),price int)\")\n",
    "        print(\"Table is created....\")\n",
    "        #loop through the data frame\n",
    "        for i,row in empdata.iterrows():\n",
    "            #here %S means string values \n",
    "            sql = \"INSERT INTO TC_test.test_data VALUES (%s,%s,%s)\"\n",
    "            cursor.execute(sql, tuple(row))\n",
    "            print(\"Record inserted\")\n",
    "            # the connection is not auto committed by default, so we must commit to save our changes\n",
    "            conn.commit()\n",
    "except Error as e:\n",
    "            print(\"Error while connecting to MySQL\", e)"
   ]
  },
  {
   "cell_type": "code",
   "execution_count": null,
   "id": "1e073c93-0ade-4b20-ab22-8a54eec21dff",
   "metadata": {},
   "outputs": [],
   "source": []
  }
 ],
 "metadata": {
  "kernelspec": {
   "display_name": "Python 3",
   "language": "python",
   "name": "python3"
  },
  "language_info": {
   "codemirror_mode": {
    "name": "ipython",
    "version": 3
   },
   "file_extension": ".py",
   "mimetype": "text/x-python",
   "name": "python",
   "nbconvert_exporter": "python",
   "pygments_lexer": "ipython3",
   "version": "3.6.13"
  }
 },
 "nbformat": 4,
 "nbformat_minor": 5
}
