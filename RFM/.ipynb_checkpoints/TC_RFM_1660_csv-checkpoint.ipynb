{
 "cells": [
  {
   "cell_type": "markdown",
   "id": "04531c39",
   "metadata": {},
   "source": [
    "# 1. 原始數據"
   ]
  },
  {
   "cell_type": "code",
   "execution_count": 34,
   "id": "6cd9dcbd",
   "metadata": {
    "scrolled": true
   },
   "outputs": [],
   "source": [
    "# import os\n",
    "# import pymysql\n",
    "# import pandas as pd\n",
    "\n",
    "# host = os.getenv('MYSQL_HOST')\n",
    "# port = os.getenv('MYSQL_PORT')\n",
    "# user = os.getenv('MYSQL_USER')\n",
    "# password = os.getenv('MYSQL_PASSWORD')\n",
    "# database = os.getenv('MYSQL_DATABASE')\n",
    "\n",
    "# conn = pymysql.connect(\n",
    "#     host=host,\n",
    "#     port=int(3306),\n",
    "#     user=\"root\",\n",
    "#     passwd=password,\n",
    "#     db=\"[cocoa]\",\n",
    "#     charset='utf8mb4')\n",
    "\n",
    "# df = pd.read_sql_query(\"SELECT * FROM YOUR_TABLE\",\n",
    "#     conn)\n",
    "# df.tail(10)"
   ]
  },
  {
   "cell_type": "code",
   "execution_count": 34,
   "id": "c35fec16",
   "metadata": {},
   "outputs": [],
   "source": [
    "import numpy as np\n",
    "import pandas as pd\n",
    "from matplotlib import pyplot as plt\n",
    "import seaborn as sns\n",
    "import time, datetime\n",
    "\n",
    "plt.style.use('ggplot')\n",
    "# plt.rcParams['font.sans-serif'] = ['SimHei']\n",
    "plt.rcParams['font.sans-serif'] = ['KaiTi']\n",
    "\n",
    "plt.rcParams['axes.unicode_minus']=False\n"
   ]
  },
  {
   "cell_type": "code",
   "execution_count": 35,
   "id": "f03f9553",
   "metadata": {
    "scrolled": true
   },
   "outputs": [
    {
     "data": {
      "text/html": [
       "<div>\n",
       "<style scoped>\n",
       "    .dataframe tbody tr th:only-of-type {\n",
       "        vertical-align: middle;\n",
       "    }\n",
       "\n",
       "    .dataframe tbody tr th {\n",
       "        vertical-align: top;\n",
       "    }\n",
       "\n",
       "    .dataframe thead th {\n",
       "        text-align: right;\n",
       "    }\n",
       "</style>\n",
       "<table border=\"1\" class=\"dataframe\">\n",
       "  <thead>\n",
       "    <tr style=\"text-align: right;\">\n",
       "      <th></th>\n",
       "      <th>訂單編號</th>\n",
       "      <th>顧客姓名</th>\n",
       "      <th>購買次數</th>\n",
       "      <th>訂單日期</th>\n",
       "      <th>訂單金額</th>\n",
       "    </tr>\n",
       "  </thead>\n",
       "  <tbody>\n",
       "    <tr>\n",
       "      <th>0</th>\n",
       "      <td>NaN</td>\n",
       "      <td>NaN</td>\n",
       "      <td>NaN</td>\n",
       "      <td>NaN</td>\n",
       "      <td>NaN</td>\n",
       "    </tr>\n",
       "    <tr>\n",
       "      <th>1</th>\n",
       "      <td>1.0</td>\n",
       "      <td>邱啓芳</td>\n",
       "      <td>6.0</td>\n",
       "      <td>2021/1/15</td>\n",
       "      <td>659.0</td>\n",
       "    </tr>\n",
       "    <tr>\n",
       "      <th>2</th>\n",
       "      <td>2.0</td>\n",
       "      <td>陳雅雯</td>\n",
       "      <td>6.0</td>\n",
       "      <td>2021/1/15</td>\n",
       "      <td>2299.0</td>\n",
       "    </tr>\n",
       "    <tr>\n",
       "      <th>3</th>\n",
       "      <td>3.0</td>\n",
       "      <td>鄭哲智</td>\n",
       "      <td>7.0</td>\n",
       "      <td>2021/1/15</td>\n",
       "      <td>659.0</td>\n",
       "    </tr>\n",
       "    <tr>\n",
       "      <th>4</th>\n",
       "      <td>4.0</td>\n",
       "      <td>陳惠娟</td>\n",
       "      <td>5.0</td>\n",
       "      <td>2021/1/15</td>\n",
       "      <td>1158.0</td>\n",
       "    </tr>\n",
       "    <tr>\n",
       "      <th>...</th>\n",
       "      <td>...</td>\n",
       "      <td>...</td>\n",
       "      <td>...</td>\n",
       "      <td>...</td>\n",
       "      <td>...</td>\n",
       "    </tr>\n",
       "    <tr>\n",
       "      <th>1656</th>\n",
       "      <td>1656.0</td>\n",
       "      <td>劉華融</td>\n",
       "      <td>8.0</td>\n",
       "      <td>2021/4/18</td>\n",
       "      <td>5588.0</td>\n",
       "    </tr>\n",
       "    <tr>\n",
       "      <th>1657</th>\n",
       "      <td>1657.0</td>\n",
       "      <td>林靜微</td>\n",
       "      <td>8.0</td>\n",
       "      <td>2021/11/11</td>\n",
       "      <td>3298.0</td>\n",
       "    </tr>\n",
       "    <tr>\n",
       "      <th>1658</th>\n",
       "      <td>1658.0</td>\n",
       "      <td>林美玉</td>\n",
       "      <td>14.0</td>\n",
       "      <td>2021/10/22</td>\n",
       "      <td>5638.0</td>\n",
       "    </tr>\n",
       "    <tr>\n",
       "      <th>1659</th>\n",
       "      <td>1659.0</td>\n",
       "      <td>頂秋雯</td>\n",
       "      <td>4.0</td>\n",
       "      <td>2021/8/6</td>\n",
       "      <td>5767.0</td>\n",
       "    </tr>\n",
       "    <tr>\n",
       "      <th>1660</th>\n",
       "      <td>1660.0</td>\n",
       "      <td>邱韶恩</td>\n",
       "      <td>4.0</td>\n",
       "      <td>2021/5/24</td>\n",
       "      <td>4179.0</td>\n",
       "    </tr>\n",
       "  </tbody>\n",
       "</table>\n",
       "<p>1661 rows × 5 columns</p>\n",
       "</div>"
      ],
      "text/plain": [
       "        訂單編號 顧客姓名  購買次數        訂單日期    訂單金額\n",
       "0        NaN  NaN   NaN         NaN     NaN\n",
       "1        1.0  邱啓芳   6.0   2021/1/15   659.0\n",
       "2        2.0  陳雅雯   6.0   2021/1/15  2299.0\n",
       "3        3.0  鄭哲智   7.0   2021/1/15   659.0\n",
       "4        4.0  陳惠娟   5.0   2021/1/15  1158.0\n",
       "...      ...  ...   ...         ...     ...\n",
       "1656  1656.0  劉華融   8.0   2021/4/18  5588.0\n",
       "1657  1657.0  林靜微   8.0  2021/11/11  3298.0\n",
       "1658  1658.0  林美玉  14.0  2021/10/22  5638.0\n",
       "1659  1659.0  頂秋雯   4.0    2021/8/6  5767.0\n",
       "1660  1660.0  邱韶恩   4.0   2021/5/24  4179.0\n",
       "\n",
       "[1661 rows x 5 columns]"
      ]
     },
     "execution_count": 35,
     "metadata": {},
     "output_type": "execute_result"
    }
   ],
   "source": [
    "df = pd.read_csv('TC_data_1660.csv', usecols=[\"訂單編號\", \"顧客姓名\", \"購買次數\", \"訂單日期\", \"訂單金額\"])\n",
    "\n",
    "\n",
    "# df.head()  # 前五筆\n",
    "df"
   ]
  },
  {
   "cell_type": "code",
   "execution_count": 36,
   "id": "5ce52d17",
   "metadata": {},
   "outputs": [
    {
     "name": "stdout",
     "output_type": "stream",
     "text": [
      "<class 'pandas.core.frame.DataFrame'>\n",
      "RangeIndex: 1661 entries, 0 to 1660\n",
      "Data columns (total 5 columns):\n",
      " #   Column  Non-Null Count  Dtype  \n",
      "---  ------  --------------  -----  \n",
      " 0   訂單編號    1660 non-null   float64\n",
      " 1   顧客姓名    1660 non-null   object \n",
      " 2   購買次數    1660 non-null   float64\n",
      " 3   訂單日期    1660 non-null   object \n",
      " 4   訂單金額    1660 non-null   float64\n",
      "dtypes: float64(3), object(2)\n",
      "memory usage: 65.0+ KB\n"
     ]
    }
   ],
   "source": [
    "df.info()"
   ]
  },
  {
   "cell_type": "markdown",
   "id": "dccd6d0a",
   "metadata": {},
   "source": [
    "# 2. 數據清洗"
   ]
  },
  {
   "cell_type": "code",
   "execution_count": 37,
   "id": "b3125d1e",
   "metadata": {},
   "outputs": [],
   "source": [
    "# df.drop()刪除資料\n",
    "# inplace=True 原始數據也會刪除資料\n",
    "# df.drop(colums='', inplace=True)\n",
    "# df.rename(colums={'':'', '':''}, inplace=True)"
   ]
  },
  {
   "cell_type": "code",
   "execution_count": 38,
   "id": "e41e587a",
   "metadata": {},
   "outputs": [
    {
     "data": {
      "text/plain": [
       "Index(['訂單編號', '顧客姓名', '購買次數', '訂單日期', '訂單金額'], dtype='object')"
      ]
     },
     "execution_count": 38,
     "metadata": {},
     "output_type": "execute_result"
    }
   ],
   "source": [
    "df.columns"
   ]
  },
  {
   "cell_type": "markdown",
   "id": "1027a4dd",
   "metadata": {},
   "source": [
    "## 2.1 檢查重複值"
   ]
  },
  {
   "cell_type": "code",
   "execution_count": 39,
   "id": "3d62fd38",
   "metadata": {},
   "outputs": [
    {
     "data": {
      "text/plain": [
       "0"
      ]
     },
     "execution_count": 39,
     "metadata": {},
     "output_type": "execute_result"
    }
   ],
   "source": [
    "# df.duplicated()\n",
    "df.duplicated().sum()"
   ]
  },
  {
   "cell_type": "markdown",
   "id": "b1b91b81",
   "metadata": {},
   "source": [
    "## 2.2 處理缺失值"
   ]
  },
  {
   "cell_type": "code",
   "execution_count": 40,
   "id": "26bd9e9e",
   "metadata": {},
   "outputs": [
    {
     "data": {
      "text/plain": [
       "訂單編號    1\n",
       "顧客姓名    1\n",
       "購買次數    1\n",
       "訂單日期    1\n",
       "訂單金額    1\n",
       "dtype: int64"
      ]
     },
     "execution_count": 40,
     "metadata": {},
     "output_type": "execute_result"
    }
   ],
   "source": [
    "# df.isnull()\n",
    "df.isnull().sum()"
   ]
  },
  {
   "cell_type": "markdown",
   "id": "84c387d0",
   "metadata": {},
   "source": [
    "## 2.3 數據格式-標準化處理"
   ]
  },
  {
   "cell_type": "code",
   "execution_count": 41,
   "id": "e3770353",
   "metadata": {},
   "outputs": [
    {
     "name": "stdout",
     "output_type": "stream",
     "text": [
      "<class 'pandas.core.frame.DataFrame'>\n",
      "RangeIndex: 1661 entries, 0 to 1660\n",
      "Data columns (total 5 columns):\n",
      " #   Column  Non-Null Count  Dtype         \n",
      "---  ------  --------------  -----         \n",
      " 0   訂單編號    1660 non-null   float64       \n",
      " 1   顧客姓名    1660 non-null   object        \n",
      " 2   購買次數    1660 non-null   float64       \n",
      " 3   訂單日期    1660 non-null   datetime64[ns]\n",
      " 4   訂單金額    1660 non-null   float64       \n",
      "dtypes: datetime64[ns](1), float64(3), object(1)\n",
      "memory usage: 65.0+ KB\n"
     ]
    }
   ],
   "source": [
    "df.訂單日期 = pd.to_datetime(df.訂單日期,format='%Y/%m/%d')\n",
    "df.info()"
   ]
  },
  {
   "cell_type": "markdown",
   "id": "8c043e29",
   "metadata": {},
   "source": [
    "## 2.4 異常值處理"
   ]
  },
  {
   "cell_type": "code",
   "execution_count": 42,
   "id": "c8b260da",
   "metadata": {},
   "outputs": [
    {
     "data": {
      "text/html": [
       "<div>\n",
       "<style scoped>\n",
       "    .dataframe tbody tr th:only-of-type {\n",
       "        vertical-align: middle;\n",
       "    }\n",
       "\n",
       "    .dataframe tbody tr th {\n",
       "        vertical-align: top;\n",
       "    }\n",
       "\n",
       "    .dataframe thead th {\n",
       "        text-align: right;\n",
       "    }\n",
       "</style>\n",
       "<table border=\"1\" class=\"dataframe\">\n",
       "  <thead>\n",
       "    <tr style=\"text-align: right;\">\n",
       "      <th></th>\n",
       "      <th>購買次數</th>\n",
       "      <th>訂單金額</th>\n",
       "    </tr>\n",
       "  </thead>\n",
       "  <tbody>\n",
       "    <tr>\n",
       "      <th>count</th>\n",
       "      <td>1660.000000</td>\n",
       "      <td>1660.000000</td>\n",
       "    </tr>\n",
       "    <tr>\n",
       "      <th>mean</th>\n",
       "      <td>7.675904</td>\n",
       "      <td>4349.937349</td>\n",
       "    </tr>\n",
       "    <tr>\n",
       "      <th>std</th>\n",
       "      <td>3.876300</td>\n",
       "      <td>1645.000790</td>\n",
       "    </tr>\n",
       "    <tr>\n",
       "      <th>min</th>\n",
       "      <td>1.000000</td>\n",
       "      <td>300.000000</td>\n",
       "    </tr>\n",
       "    <tr>\n",
       "      <th>25%</th>\n",
       "      <td>5.000000</td>\n",
       "      <td>3479.000000</td>\n",
       "    </tr>\n",
       "    <tr>\n",
       "      <th>50%</th>\n",
       "      <td>7.000000</td>\n",
       "      <td>4618.000000</td>\n",
       "    </tr>\n",
       "    <tr>\n",
       "      <th>75%</th>\n",
       "      <td>9.000000</td>\n",
       "      <td>5487.250000</td>\n",
       "    </tr>\n",
       "    <tr>\n",
       "      <th>max</th>\n",
       "      <td>25.000000</td>\n",
       "      <td>8316.000000</td>\n",
       "    </tr>\n",
       "  </tbody>\n",
       "</table>\n",
       "</div>"
      ],
      "text/plain": [
       "              購買次數         訂單金額\n",
       "count  1660.000000  1660.000000\n",
       "mean      7.675904  4349.937349\n",
       "std       3.876300  1645.000790\n",
       "min       1.000000   300.000000\n",
       "25%       5.000000  3479.000000\n",
       "50%       7.000000  4618.000000\n",
       "75%       9.000000  5487.250000\n",
       "max      25.000000  8316.000000"
      ]
     },
     "execution_count": 42,
     "metadata": {},
     "output_type": "execute_result"
    }
   ],
   "source": [
    "df[['購買次數' ,'訂單金額']].describe()"
   ]
  },
  {
   "cell_type": "markdown",
   "id": "83a705e4",
   "metadata": {},
   "source": [
    "# 3. 分析階段"
   ]
  },
  {
   "cell_type": "markdown",
   "id": "513befdf",
   "metadata": {},
   "source": [
    "## 1. 消費情況按月分析\n",
    "### 每月消費總金額趨勢分析"
   ]
  },
  {
   "cell_type": "code",
   "execution_count": 43,
   "id": "80e7f9c0",
   "metadata": {
    "scrolled": true
   },
   "outputs": [
    {
     "data": {
      "text/html": [
       "<div>\n",
       "<style scoped>\n",
       "    .dataframe tbody tr th:only-of-type {\n",
       "        vertical-align: middle;\n",
       "    }\n",
       "\n",
       "    .dataframe tbody tr th {\n",
       "        vertical-align: top;\n",
       "    }\n",
       "\n",
       "    .dataframe thead th {\n",
       "        text-align: right;\n",
       "    }\n",
       "</style>\n",
       "<table border=\"1\" class=\"dataframe\">\n",
       "  <thead>\n",
       "    <tr style=\"text-align: right;\">\n",
       "      <th></th>\n",
       "      <th>訂單編號</th>\n",
       "      <th>顧客姓名</th>\n",
       "      <th>購買次數</th>\n",
       "      <th>訂單日期</th>\n",
       "      <th>訂單金額</th>\n",
       "      <th>Month</th>\n",
       "    </tr>\n",
       "  </thead>\n",
       "  <tbody>\n",
       "    <tr>\n",
       "      <th>0</th>\n",
       "      <td>NaN</td>\n",
       "      <td>NaN</td>\n",
       "      <td>NaN</td>\n",
       "      <td>NaT</td>\n",
       "      <td>NaN</td>\n",
       "      <td>NaT</td>\n",
       "    </tr>\n",
       "    <tr>\n",
       "      <th>1</th>\n",
       "      <td>1.0</td>\n",
       "      <td>邱啓芳</td>\n",
       "      <td>6.0</td>\n",
       "      <td>2021-01-15</td>\n",
       "      <td>659.0</td>\n",
       "      <td>2021-01-01</td>\n",
       "    </tr>\n",
       "    <tr>\n",
       "      <th>2</th>\n",
       "      <td>2.0</td>\n",
       "      <td>陳雅雯</td>\n",
       "      <td>6.0</td>\n",
       "      <td>2021-01-15</td>\n",
       "      <td>2299.0</td>\n",
       "      <td>2021-01-01</td>\n",
       "    </tr>\n",
       "    <tr>\n",
       "      <th>3</th>\n",
       "      <td>3.0</td>\n",
       "      <td>鄭哲智</td>\n",
       "      <td>7.0</td>\n",
       "      <td>2021-01-15</td>\n",
       "      <td>659.0</td>\n",
       "      <td>2021-01-01</td>\n",
       "    </tr>\n",
       "    <tr>\n",
       "      <th>4</th>\n",
       "      <td>4.0</td>\n",
       "      <td>陳惠娟</td>\n",
       "      <td>5.0</td>\n",
       "      <td>2021-01-15</td>\n",
       "      <td>1158.0</td>\n",
       "      <td>2021-01-01</td>\n",
       "    </tr>\n",
       "    <tr>\n",
       "      <th>...</th>\n",
       "      <td>...</td>\n",
       "      <td>...</td>\n",
       "      <td>...</td>\n",
       "      <td>...</td>\n",
       "      <td>...</td>\n",
       "      <td>...</td>\n",
       "    </tr>\n",
       "    <tr>\n",
       "      <th>1656</th>\n",
       "      <td>1656.0</td>\n",
       "      <td>劉華融</td>\n",
       "      <td>8.0</td>\n",
       "      <td>2021-04-18</td>\n",
       "      <td>5588.0</td>\n",
       "      <td>2021-04-01</td>\n",
       "    </tr>\n",
       "    <tr>\n",
       "      <th>1657</th>\n",
       "      <td>1657.0</td>\n",
       "      <td>林靜微</td>\n",
       "      <td>8.0</td>\n",
       "      <td>2021-11-11</td>\n",
       "      <td>3298.0</td>\n",
       "      <td>2021-11-01</td>\n",
       "    </tr>\n",
       "    <tr>\n",
       "      <th>1658</th>\n",
       "      <td>1658.0</td>\n",
       "      <td>林美玉</td>\n",
       "      <td>14.0</td>\n",
       "      <td>2021-10-22</td>\n",
       "      <td>5638.0</td>\n",
       "      <td>2021-10-01</td>\n",
       "    </tr>\n",
       "    <tr>\n",
       "      <th>1659</th>\n",
       "      <td>1659.0</td>\n",
       "      <td>頂秋雯</td>\n",
       "      <td>4.0</td>\n",
       "      <td>2021-08-06</td>\n",
       "      <td>5767.0</td>\n",
       "      <td>2021-08-01</td>\n",
       "    </tr>\n",
       "    <tr>\n",
       "      <th>1660</th>\n",
       "      <td>1660.0</td>\n",
       "      <td>邱韶恩</td>\n",
       "      <td>4.0</td>\n",
       "      <td>2021-05-24</td>\n",
       "      <td>4179.0</td>\n",
       "      <td>2021-05-01</td>\n",
       "    </tr>\n",
       "  </tbody>\n",
       "</table>\n",
       "<p>1661 rows × 6 columns</p>\n",
       "</div>"
      ],
      "text/plain": [
       "        訂單編號 顧客姓名  購買次數       訂單日期    訂單金額      Month\n",
       "0        NaN  NaN   NaN        NaT     NaN        NaT\n",
       "1        1.0  邱啓芳   6.0 2021-01-15   659.0 2021-01-01\n",
       "2        2.0  陳雅雯   6.0 2021-01-15  2299.0 2021-01-01\n",
       "3        3.0  鄭哲智   7.0 2021-01-15   659.0 2021-01-01\n",
       "4        4.0  陳惠娟   5.0 2021-01-15  1158.0 2021-01-01\n",
       "...      ...  ...   ...        ...     ...        ...\n",
       "1656  1656.0  劉華融   8.0 2021-04-18  5588.0 2021-04-01\n",
       "1657  1657.0  林靜微   8.0 2021-11-11  3298.0 2021-11-01\n",
       "1658  1658.0  林美玉  14.0 2021-10-22  5638.0 2021-10-01\n",
       "1659  1659.0  頂秋雯   4.0 2021-08-06  5767.0 2021-08-01\n",
       "1660  1660.0  邱韶恩   4.0 2021-05-24  4179.0 2021-05-01\n",
       "\n",
       "[1661 rows x 6 columns]"
      ]
     },
     "execution_count": 43,
     "metadata": {},
     "output_type": "execute_result"
    }
   ],
   "source": [
    "df['Month']=df.訂單日期.astype('datetime64[M]')\n",
    "# df.head()\n",
    "df"
   ]
  },
  {
   "cell_type": "code",
   "execution_count": 44,
   "id": "0eae72b2",
   "metadata": {},
   "outputs": [],
   "source": [
    "grouped_month = df.groupby('Month')"
   ]
  },
  {
   "cell_type": "code",
   "execution_count": 45,
   "id": "227b6513",
   "metadata": {},
   "outputs": [
    {
     "data": {
      "text/plain": [
       "Month\n",
       "2021-01-01    734841.0\n",
       "2021-02-01    595174.0\n",
       "2021-03-01    509628.0\n",
       "2021-04-01    489674.0\n",
       "2021-05-01    625753.0\n",
       "2021-06-01    506190.0\n",
       "2021-07-01    601904.0\n",
       "2021-08-01    572281.0\n",
       "2021-09-01    479154.0\n",
       "2021-10-01    517386.0\n",
       "2021-11-01    552478.0\n",
       "2021-12-01    597075.0\n",
       "2022-01-01    439358.0\n",
       "Name: 訂單金額, dtype: float64"
      ]
     },
     "execution_count": 45,
     "metadata": {},
     "output_type": "execute_result"
    }
   ],
   "source": [
    "grouped_month.訂單金額.sum()"
   ]
  },
  {
   "cell_type": "markdown",
   "id": "1641681e",
   "metadata": {},
   "source": [
    "### 每月訂單金額折線圖"
   ]
  },
  {
   "cell_type": "code",
   "execution_count": 46,
   "id": "40b637ed",
   "metadata": {},
   "outputs": [
    {
     "data": {
      "text/plain": [
       "<AxesSubplot:xlabel='Month'>"
      ]
     },
     "execution_count": 46,
     "metadata": {},
     "output_type": "execute_result"
    },
    {
     "data": {
      "image/png": "[encoded data removed]",
      "text/plain": [
       "<Figure size 432x288 with 1 Axes>"
      ]
     },
     "metadata": {},
     "output_type": "display_data"
    }
   ],
   "source": [
    "grouped_month.訂單金額.sum().plot()"
   ]
  },
  {
   "cell_type": "markdown",
   "id": "6d1b05d3",
   "metadata": {},
   "source": [
    "### 每月訂單數量折線圖"
   ]
  },
  {
   "cell_type": "code",
   "execution_count": 47,
   "id": "7c6546df",
   "metadata": {},
   "outputs": [
    {
     "data": {
      "text/plain": [
       "<AxesSubplot:xlabel='Month'>"
      ]
     },
     "execution_count": 47,
     "metadata": {},
     "output_type": "execute_result"
    },
    {
     "data": {
      "image/png": "[encoded data removed]",
      "text/plain": [
       "<Figure size 432x288 with 1 Axes>"
      ]
     },
     "metadata": {},
     "output_type": "display_data"
    }
   ],
   "source": [
    "grouped_month.訂單編號.nunique().head(13).plot()"
   ]
  },
  {
   "cell_type": "markdown",
   "id": "35f9a94a",
   "metadata": {},
   "source": [
    "### 用戶分佈分析"
   ]
  },
  {
   "cell_type": "code",
   "execution_count": 48,
   "id": "7b757716",
   "metadata": {},
   "outputs": [
    {
     "data": {
      "text/plain": [
       "<AxesSubplot:>"
      ]
     },
     "execution_count": 48,
     "metadata": {},
     "output_type": "execute_result"
    },
    {
     "data": {
      "image/png": "[encoded data removed]",
      "text/plain": [
       "<Figure size 432x288 with 1 Axes>"
      ]
     },
     "metadata": {},
     "output_type": "display_data"
    }
   ],
   "source": [
    "df.groupby('顧客姓名').訂單日期.min().value_counts().plot()"
   ]
  },
  {
   "cell_type": "markdown",
   "id": "3934db92",
   "metadata": {},
   "source": [
    "### 新用戶每月人數"
   ]
  },
  {
   "cell_type": "code",
   "execution_count": 49,
   "id": "d3527810",
   "metadata": {},
   "outputs": [
    {
     "data": {
      "text/plain": [
       "<AxesSubplot:>"
      ]
     },
     "execution_count": 49,
     "metadata": {},
     "output_type": "execute_result"
    },
    {
     "data": {
      "image/png": "[encoded data removed]",
      "text/plain": [
       "<Figure size 432x288 with 1 Axes>"
      ]
     },
     "metadata": {},
     "output_type": "display_data"
    }
   ],
   "source": [
    "df.groupby('顧客姓名').Month.min().value_counts().plot()"
   ]
  },
  {
   "cell_type": "markdown",
   "id": "b3fa4a75",
   "metadata": {},
   "source": [
    "# 4. 用戶分層分析"
   ]
  },
  {
   "cell_type": "markdown",
   "id": "b2a7d291",
   "metadata": {},
   "source": [
    "## RFM分層分析\n",
    "### Recency（上次消費的日期）、Frequency（消費頻率）、Monetary（消費金額）\n",
    "- Recency（上次消費的日期）近期有消費過的顧客，會是最有可能再次回購的人，因此可以針對這群人發放折價優惠或是商品訊息。\n",
    "- Frequency（消費頻率）\n",
    "消費頻率越高的人就越有可能是品牌的忠誠顧客，也因此可以透過行銷策略，持續提高這群人的購買意願。\n",
    "- Monetary（消費金額）\n",
    "消費金額的多寡過去常被視為較重要的要素，但是結合 Recency、Frequency 就會是一個完整的顧客消費輪廓。\n",
    "未來若是要採用分眾行銷，RFM 模型就會是個參考依據。"
   ]
  },
  {
   "cell_type": "code",
   "execution_count": 50,
   "id": "58e7a6b1",
   "metadata": {},
   "outputs": [],
   "source": [
    "pivot_rfm = df.pivot_table(index='顧客姓名',\n",
    "                          values=['訂單日期', '購買次數', '訂單金額'],\n",
    "                          aggfunc={'訂單日期':'max' , '購買次數':'nunique', '訂單金額':'sum'})"
   ]
  },
  {
   "cell_type": "code",
   "execution_count": 51,
   "id": "cc6b6f85",
   "metadata": {},
   "outputs": [],
   "source": [
    "pivot_rfm['R'] = (pivot_rfm.訂單日期.max() - pivot_rfm.訂單日期)/np.timedelta64(1, 'D')\n",
    "pivot_rfm.rename(columns={'購買次數':'F', '訂單金額':'M'}, inplace=True)"
   ]
  },
  {
   "cell_type": "code",
   "execution_count": 52,
   "id": "364e81f9",
   "metadata": {},
   "outputs": [],
   "source": [
    "def label_func(df):\n",
    "    label = df.apply(lambda x:'1' if x > 0 else '0')\n",
    "    label = label.R + label.F + label.M\n",
    "    labels = {\n",
    "        '111':'重要價值客戶important value',\n",
    "        '011':'重要保持客戶important keep',\n",
    "        '101':'重要發展客戶important develop',\n",
    "        '001':'重要挽留客戶important retain',\n",
    "        '110':'一般價值客戶generally value',\n",
    "        '010':'一般保持客戶generally keep',\n",
    "        '100':'一般發展客戶generally develop',\n",
    "        '000':'一般挽留客戶generally retain'\n",
    "    }\n",
    "    return labels[label]\n",
    "pivot_rfm['label'] = pivot_rfm[['R','F','M']].apply(lambda x:x-x.mean()).apply(label_func, axis=1)"
   ]
  },
  {
   "cell_type": "code",
   "execution_count": 53,
   "id": "7daa4451",
   "metadata": {},
   "outputs": [
    {
     "data": {
      "text/plain": [
       "<AxesSubplot:>"
      ]
     },
     "execution_count": 53,
     "metadata": {},
     "output_type": "execute_result"
    },
    {
     "name": "stderr",
     "output_type": "stream",
     "text": [
      "/Users/yiting/opt/anaconda3/envs/py36_13/lib/python3.6/site-packages/matplotlib/backends/backend_agg.py:238: RuntimeWarning: Glyph 19968 missing from current font.\n",
      "  font.set_text(s, 0.0, flags=flags)\n",
      "/Users/yiting/opt/anaconda3/envs/py36_13/lib/python3.6/site-packages/matplotlib/backends/backend_agg.py:238: RuntimeWarning: Glyph 33324 missing from current font.\n",
      "  font.set_text(s, 0.0, flags=flags)\n",
      "/Users/yiting/opt/anaconda3/envs/py36_13/lib/python3.6/site-packages/matplotlib/backends/backend_agg.py:238: RuntimeWarning: Glyph 30332 missing from current font.\n",
      "  font.set_text(s, 0.0, flags=flags)\n",
      "/Users/yiting/opt/anaconda3/envs/py36_13/lib/python3.6/site-packages/matplotlib/backends/backend_agg.py:238: RuntimeWarning: Glyph 23637 missing from current font.\n",
      "  font.set_text(s, 0.0, flags=flags)\n",
      "/Users/yiting/opt/anaconda3/envs/py36_13/lib/python3.6/site-packages/matplotlib/backends/backend_agg.py:238: RuntimeWarning: Glyph 23458 missing from current font.\n",
      "  font.set_text(s, 0.0, flags=flags)\n",
      "/Users/yiting/opt/anaconda3/envs/py36_13/lib/python3.6/site-packages/matplotlib/backends/backend_agg.py:238: RuntimeWarning: Glyph 25142 missing from current font.\n",
      "  font.set_text(s, 0.0, flags=flags)\n",
      "/Users/yiting/opt/anaconda3/envs/py36_13/lib/python3.6/site-packages/matplotlib/backends/backend_agg.py:238: RuntimeWarning: Glyph 37325 missing from current font.\n",
      "  font.set_text(s, 0.0, flags=flags)\n",
      "/Users/yiting/opt/anaconda3/envs/py36_13/lib/python3.6/site-packages/matplotlib/backends/backend_agg.py:238: RuntimeWarning: Glyph 35201 missing from current font.\n",
      "  font.set_text(s, 0.0, flags=flags)\n",
      "/Users/yiting/opt/anaconda3/envs/py36_13/lib/python3.6/site-packages/matplotlib/backends/backend_agg.py:238: RuntimeWarning: Glyph 20445 missing from current font.\n",
      "  font.set_text(s, 0.0, flags=flags)\n",
      "/Users/yiting/opt/anaconda3/envs/py36_13/lib/python3.6/site-packages/matplotlib/backends/backend_agg.py:238: RuntimeWarning: Glyph 25345 missing from current font.\n",
      "  font.set_text(s, 0.0, flags=flags)\n",
      "/Users/yiting/opt/anaconda3/envs/py36_13/lib/python3.6/site-packages/matplotlib/backends/backend_agg.py:238: RuntimeWarning: Glyph 25405 missing from current font.\n",
      "  font.set_text(s, 0.0, flags=flags)\n",
      "/Users/yiting/opt/anaconda3/envs/py36_13/lib/python3.6/site-packages/matplotlib/backends/backend_agg.py:238: RuntimeWarning: Glyph 30041 missing from current font.\n",
      "  font.set_text(s, 0.0, flags=flags)\n",
      "/Users/yiting/opt/anaconda3/envs/py36_13/lib/python3.6/site-packages/matplotlib/backends/backend_agg.py:238: RuntimeWarning: Glyph 20729 missing from current font.\n",
      "  font.set_text(s, 0.0, flags=flags)\n",
      "/Users/yiting/opt/anaconda3/envs/py36_13/lib/python3.6/site-packages/matplotlib/backends/backend_agg.py:238: RuntimeWarning: Glyph 20540 missing from current font.\n",
      "  font.set_text(s, 0.0, flags=flags)\n",
      "/Users/yiting/opt/anaconda3/envs/py36_13/lib/python3.6/site-packages/matplotlib/backends/backend_agg.py:201: RuntimeWarning: Glyph 19968 missing from current font.\n",
      "  font.set_text(s, 0, flags=flags)\n",
      "/Users/yiting/opt/anaconda3/envs/py36_13/lib/python3.6/site-packages/matplotlib/backends/backend_agg.py:201: RuntimeWarning: Glyph 33324 missing from current font.\n",
      "  font.set_text(s, 0, flags=flags)\n",
      "/Users/yiting/opt/anaconda3/envs/py36_13/lib/python3.6/site-packages/matplotlib/backends/backend_agg.py:201: RuntimeWarning: Glyph 30332 missing from current font.\n",
      "  font.set_text(s, 0, flags=flags)\n",
      "/Users/yiting/opt/anaconda3/envs/py36_13/lib/python3.6/site-packages/matplotlib/backends/backend_agg.py:201: RuntimeWarning: Glyph 23637 missing from current font.\n",
      "  font.set_text(s, 0, flags=flags)\n",
      "/Users/yiting/opt/anaconda3/envs/py36_13/lib/python3.6/site-packages/matplotlib/backends/backend_agg.py:201: RuntimeWarning: Glyph 23458 missing from current font.\n",
      "  font.set_text(s, 0, flags=flags)\n",
      "/Users/yiting/opt/anaconda3/envs/py36_13/lib/python3.6/site-packages/matplotlib/backends/backend_agg.py:201: RuntimeWarning: Glyph 25142 missing from current font.\n",
      "  font.set_text(s, 0, flags=flags)\n",
      "/Users/yiting/opt/anaconda3/envs/py36_13/lib/python3.6/site-packages/matplotlib/backends/backend_agg.py:201: RuntimeWarning: Glyph 37325 missing from current font.\n",
      "  font.set_text(s, 0, flags=flags)\n",
      "/Users/yiting/opt/anaconda3/envs/py36_13/lib/python3.6/site-packages/matplotlib/backends/backend_agg.py:201: RuntimeWarning: Glyph 35201 missing from current font.\n",
      "  font.set_text(s, 0, flags=flags)\n",
      "/Users/yiting/opt/anaconda3/envs/py36_13/lib/python3.6/site-packages/matplotlib/backends/backend_agg.py:201: RuntimeWarning: Glyph 20445 missing from current font.\n",
      "  font.set_text(s, 0, flags=flags)\n",
      "/Users/yiting/opt/anaconda3/envs/py36_13/lib/python3.6/site-packages/matplotlib/backends/backend_agg.py:201: RuntimeWarning: Glyph 25345 missing from current font.\n",
      "  font.set_text(s, 0, flags=flags)\n",
      "/Users/yiting/opt/anaconda3/envs/py36_13/lib/python3.6/site-packages/matplotlib/backends/backend_agg.py:201: RuntimeWarning: Glyph 25405 missing from current font.\n",
      "  font.set_text(s, 0, flags=flags)\n",
      "/Users/yiting/opt/anaconda3/envs/py36_13/lib/python3.6/site-packages/matplotlib/backends/backend_agg.py:201: RuntimeWarning: Glyph 30041 missing from current font.\n",
      "  font.set_text(s, 0, flags=flags)\n",
      "/Users/yiting/opt/anaconda3/envs/py36_13/lib/python3.6/site-packages/matplotlib/backends/backend_agg.py:201: RuntimeWarning: Glyph 20729 missing from current font.\n",
      "  font.set_text(s, 0, flags=flags)\n",
      "/Users/yiting/opt/anaconda3/envs/py36_13/lib/python3.6/site-packages/matplotlib/backends/backend_agg.py:201: RuntimeWarning: Glyph 20540 missing from current font.\n",
      "  font.set_text(s, 0, flags=flags)\n"
     ]
    },
    {
     "data": {
      "image/png": "[encoded data removed]",
      "text/plain": [
       "<Figure size 432x288 with 1 Axes>"
      ]
     },
     "metadata": {},
     "output_type": "display_data"
    }
   ],
   "source": [
    "pivot_rfm.label.value_counts().plot.barh()"
   ]
  },
  {
   "cell_type": "markdown",
   "id": "8dc87cfd",
   "metadata": {},
   "source": [
    "## 客戶分層消費金額占比"
   ]
  },
  {
   "cell_type": "code",
   "execution_count": 54,
   "id": "c94bf3ec",
   "metadata": {},
   "outputs": [
    {
     "data": {
      "text/plain": [
       "<AxesSubplot:ylabel='M'>"
      ]
     },
     "execution_count": 54,
     "metadata": {},
     "output_type": "execute_result"
    },
    {
     "name": "stderr",
     "output_type": "stream",
     "text": [
      "/Users/yiting/opt/anaconda3/envs/py36_13/lib/python3.6/site-packages/matplotlib/backends/backend_agg.py:238: RuntimeWarning: Glyph 19968 missing from current font.\n",
      "  font.set_text(s, 0.0, flags=flags)\n",
      "/Users/yiting/opt/anaconda3/envs/py36_13/lib/python3.6/site-packages/matplotlib/backends/backend_agg.py:238: RuntimeWarning: Glyph 33324 missing from current font.\n",
      "  font.set_text(s, 0.0, flags=flags)\n",
      "/Users/yiting/opt/anaconda3/envs/py36_13/lib/python3.6/site-packages/matplotlib/backends/backend_agg.py:238: RuntimeWarning: Glyph 25405 missing from current font.\n",
      "  font.set_text(s, 0.0, flags=flags)\n",
      "/Users/yiting/opt/anaconda3/envs/py36_13/lib/python3.6/site-packages/matplotlib/backends/backend_agg.py:238: RuntimeWarning: Glyph 30041 missing from current font.\n",
      "  font.set_text(s, 0.0, flags=flags)\n",
      "/Users/yiting/opt/anaconda3/envs/py36_13/lib/python3.6/site-packages/matplotlib/backends/backend_agg.py:238: RuntimeWarning: Glyph 23458 missing from current font.\n",
      "  font.set_text(s, 0.0, flags=flags)\n",
      "/Users/yiting/opt/anaconda3/envs/py36_13/lib/python3.6/site-packages/matplotlib/backends/backend_agg.py:238: RuntimeWarning: Glyph 25142 missing from current font.\n",
      "  font.set_text(s, 0.0, flags=flags)\n",
      "/Users/yiting/opt/anaconda3/envs/py36_13/lib/python3.6/site-packages/matplotlib/backends/backend_agg.py:238: RuntimeWarning: Glyph 30332 missing from current font.\n",
      "  font.set_text(s, 0.0, flags=flags)\n",
      "/Users/yiting/opt/anaconda3/envs/py36_13/lib/python3.6/site-packages/matplotlib/backends/backend_agg.py:238: RuntimeWarning: Glyph 23637 missing from current font.\n",
      "  font.set_text(s, 0.0, flags=flags)\n",
      "/Users/yiting/opt/anaconda3/envs/py36_13/lib/python3.6/site-packages/matplotlib/backends/backend_agg.py:238: RuntimeWarning: Glyph 37325 missing from current font.\n",
      "  font.set_text(s, 0.0, flags=flags)\n",
      "/Users/yiting/opt/anaconda3/envs/py36_13/lib/python3.6/site-packages/matplotlib/backends/backend_agg.py:238: RuntimeWarning: Glyph 35201 missing from current font.\n",
      "  font.set_text(s, 0.0, flags=flags)\n",
      "/Users/yiting/opt/anaconda3/envs/py36_13/lib/python3.6/site-packages/matplotlib/backends/backend_agg.py:238: RuntimeWarning: Glyph 20445 missing from current font.\n",
      "  font.set_text(s, 0.0, flags=flags)\n",
      "/Users/yiting/opt/anaconda3/envs/py36_13/lib/python3.6/site-packages/matplotlib/backends/backend_agg.py:238: RuntimeWarning: Glyph 25345 missing from current font.\n",
      "  font.set_text(s, 0.0, flags=flags)\n",
      "/Users/yiting/opt/anaconda3/envs/py36_13/lib/python3.6/site-packages/matplotlib/backends/backend_agg.py:238: RuntimeWarning: Glyph 20729 missing from current font.\n",
      "  font.set_text(s, 0.0, flags=flags)\n",
      "/Users/yiting/opt/anaconda3/envs/py36_13/lib/python3.6/site-packages/matplotlib/backends/backend_agg.py:238: RuntimeWarning: Glyph 20540 missing from current font.\n",
      "  font.set_text(s, 0.0, flags=flags)\n",
      "/Users/yiting/opt/anaconda3/envs/py36_13/lib/python3.6/site-packages/matplotlib/backends/backend_agg.py:201: RuntimeWarning: Glyph 19968 missing from current font.\n",
      "  font.set_text(s, 0, flags=flags)\n",
      "/Users/yiting/opt/anaconda3/envs/py36_13/lib/python3.6/site-packages/matplotlib/backends/backend_agg.py:201: RuntimeWarning: Glyph 33324 missing from current font.\n",
      "  font.set_text(s, 0, flags=flags)\n",
      "/Users/yiting/opt/anaconda3/envs/py36_13/lib/python3.6/site-packages/matplotlib/backends/backend_agg.py:201: RuntimeWarning: Glyph 25405 missing from current font.\n",
      "  font.set_text(s, 0, flags=flags)\n",
      "/Users/yiting/opt/anaconda3/envs/py36_13/lib/python3.6/site-packages/matplotlib/backends/backend_agg.py:201: RuntimeWarning: Glyph 30041 missing from current font.\n",
      "  font.set_text(s, 0, flags=flags)\n",
      "/Users/yiting/opt/anaconda3/envs/py36_13/lib/python3.6/site-packages/matplotlib/backends/backend_agg.py:201: RuntimeWarning: Glyph 23458 missing from current font.\n",
      "  font.set_text(s, 0, flags=flags)\n",
      "/Users/yiting/opt/anaconda3/envs/py36_13/lib/python3.6/site-packages/matplotlib/backends/backend_agg.py:201: RuntimeWarning: Glyph 25142 missing from current font.\n",
      "  font.set_text(s, 0, flags=flags)\n",
      "/Users/yiting/opt/anaconda3/envs/py36_13/lib/python3.6/site-packages/matplotlib/backends/backend_agg.py:201: RuntimeWarning: Glyph 30332 missing from current font.\n",
      "  font.set_text(s, 0, flags=flags)\n",
      "/Users/yiting/opt/anaconda3/envs/py36_13/lib/python3.6/site-packages/matplotlib/backends/backend_agg.py:201: RuntimeWarning: Glyph 23637 missing from current font.\n",
      "  font.set_text(s, 0, flags=flags)\n",
      "/Users/yiting/opt/anaconda3/envs/py36_13/lib/python3.6/site-packages/matplotlib/backends/backend_agg.py:201: RuntimeWarning: Glyph 37325 missing from current font.\n",
      "  font.set_text(s, 0, flags=flags)\n",
      "/Users/yiting/opt/anaconda3/envs/py36_13/lib/python3.6/site-packages/matplotlib/backends/backend_agg.py:201: RuntimeWarning: Glyph 35201 missing from current font.\n",
      "  font.set_text(s, 0, flags=flags)\n",
      "/Users/yiting/opt/anaconda3/envs/py36_13/lib/python3.6/site-packages/matplotlib/backends/backend_agg.py:201: RuntimeWarning: Glyph 20445 missing from current font.\n",
      "  font.set_text(s, 0, flags=flags)\n",
      "/Users/yiting/opt/anaconda3/envs/py36_13/lib/python3.6/site-packages/matplotlib/backends/backend_agg.py:201: RuntimeWarning: Glyph 25345 missing from current font.\n",
      "  font.set_text(s, 0, flags=flags)\n",
      "/Users/yiting/opt/anaconda3/envs/py36_13/lib/python3.6/site-packages/matplotlib/backends/backend_agg.py:201: RuntimeWarning: Glyph 20729 missing from current font.\n",
      "  font.set_text(s, 0, flags=flags)\n",
      "/Users/yiting/opt/anaconda3/envs/py36_13/lib/python3.6/site-packages/matplotlib/backends/backend_agg.py:201: RuntimeWarning: Glyph 20540 missing from current font.\n",
      "  font.set_text(s, 0, flags=flags)\n"
     ]
    },
    {
     "data": {
      "image/png": "[encoded data removed]",
      "text/plain": [
       "<Figure size 432x432 with 1 Axes>"
      ]
     },
     "metadata": {},
     "output_type": "display_data"
    }
   ],
   "source": [
    "pivot_rfm.groupby('label').M.sum().plot.pie(figsize=(6,6), autopct='%3.2f%%')"
   ]
  },
  {
   "cell_type": "code",
   "execution_count": 55,
   "id": "29f6bce1",
   "metadata": {},
   "outputs": [
    {
     "data": {
      "text/html": [
       "<div>\n",
       "<style scoped>\n",
       "    .dataframe tbody tr th:only-of-type {\n",
       "        vertical-align: middle;\n",
       "    }\n",
       "\n",
       "    .dataframe tbody tr th {\n",
       "        vertical-align: top;\n",
       "    }\n",
       "\n",
       "    .dataframe thead tr th {\n",
       "        text-align: left;\n",
       "    }\n",
       "\n",
       "    .dataframe thead tr:last-of-type th {\n",
       "        text-align: right;\n",
       "    }\n",
       "</style>\n",
       "<table border=\"1\" class=\"dataframe\">\n",
       "  <thead>\n",
       "    <tr>\n",
       "      <th></th>\n",
       "      <th colspan=\"2\" halign=\"left\">M</th>\n",
       "      <th colspan=\"2\" halign=\"left\">F</th>\n",
       "      <th colspan=\"2\" halign=\"left\">R</th>\n",
       "    </tr>\n",
       "    <tr>\n",
       "      <th></th>\n",
       "      <th>sum</th>\n",
       "      <th>count</th>\n",
       "      <th>sum</th>\n",
       "      <th>count</th>\n",
       "      <th>sum</th>\n",
       "      <th>count</th>\n",
       "    </tr>\n",
       "    <tr>\n",
       "      <th>label</th>\n",
       "      <th></th>\n",
       "      <th></th>\n",
       "      <th></th>\n",
       "      <th></th>\n",
       "      <th></th>\n",
       "      <th></th>\n",
       "    </tr>\n",
       "  </thead>\n",
       "  <tbody>\n",
       "    <tr>\n",
       "      <th>一般挽留客戶generally retain</th>\n",
       "      <td>93353.0</td>\n",
       "      <td>44</td>\n",
       "      <td>44</td>\n",
       "      <td>44</td>\n",
       "      <td>3597.0</td>\n",
       "      <td>44</td>\n",
       "    </tr>\n",
       "    <tr>\n",
       "      <th>一般發展客戶generally develop</th>\n",
       "      <td>232245.0</td>\n",
       "      <td>124</td>\n",
       "      <td>124</td>\n",
       "      <td>124</td>\n",
       "      <td>40647.0</td>\n",
       "      <td>124</td>\n",
       "    </tr>\n",
       "    <tr>\n",
       "      <th>重要保持客戶important keep</th>\n",
       "      <td>6862083.0</td>\n",
       "      <td>95</td>\n",
       "      <td>765</td>\n",
       "      <td>95</td>\n",
       "      <td>2999.0</td>\n",
       "      <td>95</td>\n",
       "    </tr>\n",
       "    <tr>\n",
       "      <th>重要價值客戶important value</th>\n",
       "      <td>33215.0</td>\n",
       "      <td>1</td>\n",
       "      <td>6</td>\n",
       "      <td>1</td>\n",
       "      <td>266.0</td>\n",
       "      <td>1</td>\n",
       "    </tr>\n",
       "  </tbody>\n",
       "</table>\n",
       "</div>"
      ],
      "text/plain": [
       "                                 M          F              R      \n",
       "                               sum count  sum count      sum count\n",
       "label                                                             \n",
       "一般挽留客戶generally retain     93353.0    44   44    44   3597.0    44\n",
       "一般發展客戶generally develop   232245.0   124  124   124  40647.0   124\n",
       "重要保持客戶important keep     6862083.0    95  765    95   2999.0    95\n",
       "重要價值客戶important value      33215.0     1    6     1    266.0     1"
      ]
     },
     "execution_count": 55,
     "metadata": {},
     "output_type": "execute_result"
    }
   ],
   "source": [
    "pivot_rfm.groupby('label').agg(['sum','count'])"
   ]
  },
  {
   "cell_type": "markdown",
   "id": "773419b0",
   "metadata": {},
   "source": [
    "銷售額主要來源為重要發展客戶,人數佔比最高的為一般發展客戶\n",
    "\n",
    "重要保持客戶:\n",
    "重要價值客戶:\n",
    "重要發展客戶:銷售額的主要來源,人數佔比次高,近期有消費,且消費高,消費頻率不足,可以適當舉行營銷活動,提升此層客戶的購買頻率\n",
    "重要挽留客戶:銷售額次高,但頻次低目近期末消費,處在流失的邊緣,可以通過適當活動,使其參與到消費中來,防止流失\n",
    "一般價值客戶:\n",
    "一般發展客戶:人數佔比最高,近期有消費,但消費額以及消費頻次不高考慮到人教佔比高,可以話當舉辦活動提升消費頻次和消費額\n",
    "一般保持客戶:\n",
    "一般挽留客戶:在成本與資源控制下,酌情考慮"
   ]
  },
  {
   "cell_type": "markdown",
   "id": "4921fda2",
   "metadata": {},
   "source": [
    "## 用戶狀態分層分析"
   ]
  },
  {
   "cell_type": "code",
   "execution_count": 56,
   "id": "128726f9",
   "metadata": {},
   "outputs": [],
   "source": [
    "pivoted_status = df.pivot_table(index='顧客姓名', columns='Month', values='訂單日期', aggfunc='count').fillna(0)"
   ]
  },
  {
   "cell_type": "code",
   "execution_count": 57,
   "id": "c3955d08",
   "metadata": {},
   "outputs": [],
   "source": [
    "def active_status(df):\n",
    "    status = []\n",
    "    for i in range(len(df)):\n",
    "        # 若本月沒消費\n",
    "        if df[i] == 0:\n",
    "            if len(status) > 0:\n",
    "                if status[i-1] == 'unreg':\n",
    "                    status.append('unreg')\n",
    "                else:\n",
    "                    status.append('unactive')\n",
    "            else:\n",
    "                status.append('unreg')\n",
    "        # 若本月有消費\n",
    "        else:\n",
    "            if len(status) > 0:\n",
    "                if status[i-1] == 'unreg':\n",
    "                    status.append('new')\n",
    "                elif status[i-1] == 'unactive':\n",
    "                    status.append('return')\n",
    "                else:\n",
    "                    status.append('active')\n",
    "            else:\n",
    "                status.append('new')\n",
    "    status = pd.Series(status, index = df.index)\n",
    "    return status"
   ]
  },
  {
   "cell_type": "code",
   "execution_count": 58,
   "id": "f87d627c",
   "metadata": {},
   "outputs": [],
   "source": [
    "active_status = pivoted_status.apply(active_status, axis=1)"
   ]
  },
  {
   "cell_type": "code",
   "execution_count": 59,
   "id": "d2eb4da5",
   "metadata": {},
   "outputs": [
    {
     "data": {
      "text/plain": [
       "<AxesSubplot:xlabel='Month'>"
      ]
     },
     "execution_count": 59,
     "metadata": {},
     "output_type": "execute_result"
    },
    {
     "data": {
      "image/png": "[encoded data removed]",
      "text/plain": [
       "<Figure size 432x288 with 1 Axes>"
      ]
     },
     "metadata": {},
     "output_type": "display_data"
    }
   ],
   "source": [
    "active_status.replace('unreg', np.nan).apply(lambda x:x.value_counts()).fillna(0).T.apply(lambda x:x/x.sum(),axis=1).plot()"
   ]
  },
  {
   "cell_type": "markdown",
   "id": "d58ff95b",
   "metadata": {},
   "source": [
    "- 新用戶(藍)：新用戶佔比呈明顯下降趨勢,說明拉新客戶行銷不足\n",
    "- 活躍用戶(橘)：消費運營持續低落,說明消費營運持續下滑\n",
    "- 不活躍用戶(灰)：不活躍用戶呈明顯上升趨勢,客戶流失較為明顯\n",
    "- 回流客戶(紫)：消費運營持續低落,說明召回營運效果不佳"
   ]
  },
  {
   "cell_type": "code",
   "execution_count": null,
   "id": "ea2717f0",
   "metadata": {},
   "outputs": [],
   "source": []
  }
 ],
 "metadata": {
  "kernelspec": {
   "display_name": "Python 3",
   "language": "python",
   "name": "python3"
  },
  "language_info": {
   "codemirror_mode": {
    "name": "ipython",
    "version": 3
   },
   "file_extension": ".py",
   "mimetype": "text/x-python",
   "name": "python",
   "nbconvert_exporter": "python",
   "pygments_lexer": "ipython3",
   "version": "3.6.13"
  }
 },
 "nbformat": 4,
 "nbformat_minor": 5
}
