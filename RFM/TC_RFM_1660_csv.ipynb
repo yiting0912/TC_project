{
 "cells": [
  {
   "cell_type": "markdown",
   "id": "04531c39",
   "metadata": {},
   "source": [
    "# 1. 原始數據"
   ]
  },
  {
   "cell_type": "code",
   "execution_count": 34,
   "id": "6cd9dcbd",
   "metadata": {
    "scrolled": true
   },
   "outputs": [],
   "source": [
    "# import os\n",
    "# import pymysql\n",
    "# import pandas as pd\n",
    "\n",
    "# host = os.getenv('MYSQL_HOST')\n",
    "# port = os.getenv('MYSQL_PORT')\n",
    "# user = os.getenv('MYSQL_USER')\n",
    "# password = os.getenv('MYSQL_PASSWORD')\n",
    "# database = os.getenv('MYSQL_DATABASE')\n",
    "\n",
    "# conn = pymysql.connect(\n",
    "#     host=host,\n",
    "#     port=int(3306),\n",
    "#     user=\"root\",\n",
    "#     passwd=password,\n",
    "#     db=\"[cocoa]\",\n",
    "#     charset='utf8mb4')\n",
    "\n",
    "# df = pd.read_sql_query(\"SELECT * FROM YOUR_TABLE\",\n",
    "#     conn)\n",
    "# df.tail(10)"
   ]
  },
  {
   "cell_type": "code",
   "execution_count": 116,
   "id": "c35fec16",
   "metadata": {},
   "outputs": [],
   "source": [
    "import numpy as np\n",
    "import pandas as pd\n",
    "from matplotlib import pyplot as plt\n",
    "import seaborn as sns\n",
    "import time, datetime\n",
    "\n",
    "plt.style.use('ggplot')\n",
    "# plt.rcParams['font.sans-serif'] = ['SimHei']\n",
    "plt.rcParams['font.sans-serif'] = ['KaiTi']\n",
    "\n",
    "plt.rcParams['axes.unicode_minus']=False\n"
   ]
  },
  {
   "cell_type": "code",
   "execution_count": 117,
   "id": "f03f9553",
   "metadata": {
    "scrolled": true
   },
   "outputs": [
    {
     "data": {
      "text/html": [
       "<div>\n",
       "<style scoped>\n",
       "    .dataframe tbody tr th:only-of-type {\n",
       "        vertical-align: middle;\n",
       "    }\n",
       "\n",
       "    .dataframe tbody tr th {\n",
       "        vertical-align: top;\n",
       "    }\n",
       "\n",
       "    .dataframe thead th {\n",
       "        text-align: right;\n",
       "    }\n",
       "</style>\n",
       "<table border=\"1\" class=\"dataframe\">\n",
       "  <thead>\n",
       "    <tr style=\"text-align: right;\">\n",
       "      <th></th>\n",
       "      <th>訂單編號</th>\n",
       "      <th>顧客姓名</th>\n",
       "      <th>購買次數</th>\n",
       "      <th>訂單日期</th>\n",
       "      <th>訂單金額</th>\n",
       "    </tr>\n",
       "  </thead>\n",
       "  <tbody>\n",
       "    <tr>\n",
       "      <th>0</th>\n",
       "      <td>402</td>\n",
       "      <td>吳建宜</td>\n",
       "      <td>10</td>\n",
       "      <td>2021/1/1</td>\n",
       "      <td>6076</td>\n",
       "    </tr>\n",
       "    <tr>\n",
       "      <th>1</th>\n",
       "      <td>654</td>\n",
       "      <td>王家傳</td>\n",
       "      <td>7</td>\n",
       "      <td>2021/1/1</td>\n",
       "      <td>6885</td>\n",
       "    </tr>\n",
       "    <tr>\n",
       "      <th>2</th>\n",
       "      <td>1214</td>\n",
       "      <td>陳煜棠</td>\n",
       "      <td>6</td>\n",
       "      <td>2021/1/1</td>\n",
       "      <td>3339</td>\n",
       "    </tr>\n",
       "    <tr>\n",
       "      <th>3</th>\n",
       "      <td>1262</td>\n",
       "      <td>吳秋燕</td>\n",
       "      <td>7</td>\n",
       "      <td>2021/1/1</td>\n",
       "      <td>2629</td>\n",
       "    </tr>\n",
       "    <tr>\n",
       "      <th>4</th>\n",
       "      <td>1500</td>\n",
       "      <td>陳世賢</td>\n",
       "      <td>9</td>\n",
       "      <td>2021/1/1</td>\n",
       "      <td>5266</td>\n",
       "    </tr>\n",
       "    <tr>\n",
       "      <th>...</th>\n",
       "      <td>...</td>\n",
       "      <td>...</td>\n",
       "      <td>...</td>\n",
       "      <td>...</td>\n",
       "      <td>...</td>\n",
       "    </tr>\n",
       "    <tr>\n",
       "      <th>1558</th>\n",
       "      <td>1161</td>\n",
       "      <td>陳世賢</td>\n",
       "      <td>4</td>\n",
       "      <td>2021/12/30</td>\n",
       "      <td>3249</td>\n",
       "    </tr>\n",
       "    <tr>\n",
       "      <th>1559</th>\n",
       "      <td>1376</td>\n",
       "      <td>傅偉茹</td>\n",
       "      <td>7</td>\n",
       "      <td>2021/12/30</td>\n",
       "      <td>3369</td>\n",
       "    </tr>\n",
       "    <tr>\n",
       "      <th>1560</th>\n",
       "      <td>1541</td>\n",
       "      <td>何讚美</td>\n",
       "      <td>5</td>\n",
       "      <td>2021/12/30</td>\n",
       "      <td>4287</td>\n",
       "    </tr>\n",
       "    <tr>\n",
       "      <th>1561</th>\n",
       "      <td>666</td>\n",
       "      <td>頂秋雯</td>\n",
       "      <td>7</td>\n",
       "      <td>2021/12/31</td>\n",
       "      <td>4237</td>\n",
       "    </tr>\n",
       "    <tr>\n",
       "      <th>1562</th>\n",
       "      <td>1288</td>\n",
       "      <td>謝岱融</td>\n",
       "      <td>10</td>\n",
       "      <td>2021/12/31</td>\n",
       "      <td>6566</td>\n",
       "    </tr>\n",
       "  </tbody>\n",
       "</table>\n",
       "<p>1563 rows × 5 columns</p>\n",
       "</div>"
      ],
      "text/plain": [
       "      訂單編號 顧客姓名  購買次數        訂單日期  訂單金額\n",
       "0      402  吳建宜    10    2021/1/1  6076\n",
       "1      654  王家傳     7    2021/1/1  6885\n",
       "2     1214  陳煜棠     6    2021/1/1  3339\n",
       "3     1262  吳秋燕     7    2021/1/1  2629\n",
       "4     1500  陳世賢     9    2021/1/1  5266\n",
       "...    ...  ...   ...         ...   ...\n",
       "1558  1161  陳世賢     4  2021/12/30  3249\n",
       "1559  1376  傅偉茹     7  2021/12/30  3369\n",
       "1560  1541  何讚美     5  2021/12/30  4287\n",
       "1561   666  頂秋雯     7  2021/12/31  4237\n",
       "1562  1288  謝岱融    10  2021/12/31  6566\n",
       "\n",
       "[1563 rows x 5 columns]"
      ]
     },
     "execution_count": 117,
     "metadata": {},
     "output_type": "execute_result"
    }
   ],
   "source": [
    "df = pd.read_csv('TC_data_1564_2021.csv', usecols=[\"訂單編號\", \"顧客姓名\", \"購買次數\", \"訂單日期\", \"訂單金額\"])\n",
    "\n",
    "\n",
    "# df.head()  # 前五筆\n",
    "df"
   ]
  },
  {
   "cell_type": "code",
   "execution_count": 118,
   "id": "5ce52d17",
   "metadata": {},
   "outputs": [
    {
     "name": "stdout",
     "output_type": "stream",
     "text": [
      "<class 'pandas.core.frame.DataFrame'>\n",
      "RangeIndex: 1563 entries, 0 to 1562\n",
      "Data columns (total 5 columns):\n",
      " #   Column  Non-Null Count  Dtype \n",
      "---  ------  --------------  ----- \n",
      " 0   訂單編號    1563 non-null   int64 \n",
      " 1   顧客姓名    1563 non-null   object\n",
      " 2   購買次數    1563 non-null   int64 \n",
      " 3   訂單日期    1563 non-null   object\n",
      " 4   訂單金額    1563 non-null   int64 \n",
      "dtypes: int64(3), object(2)\n",
      "memory usage: 61.2+ KB\n"
     ]
    }
   ],
   "source": [
    "df.info()"
   ]
  },
  {
   "cell_type": "markdown",
   "id": "dccd6d0a",
   "metadata": {},
   "source": [
    "# 2. 數據清洗"
   ]
  },
  {
   "cell_type": "code",
   "execution_count": 119,
   "id": "b3125d1e",
   "metadata": {},
   "outputs": [],
   "source": [
    "# df.drop()刪除資料\n",
    "# inplace=True 原始數據也會刪除資料\n",
    "# df.drop(colums='', inplace=True)\n",
    "# df.rename(colums={'':'', '':''}, inplace=True)"
   ]
  },
  {
   "cell_type": "code",
   "execution_count": 120,
   "id": "e41e587a",
   "metadata": {},
   "outputs": [
    {
     "data": {
      "text/plain": [
       "Index(['訂單編號', '顧客姓名', '購買次數', '訂單日期', '訂單金額'], dtype='object')"
      ]
     },
     "execution_count": 120,
     "metadata": {},
     "output_type": "execute_result"
    }
   ],
   "source": [
    "df.columns"
   ]
  },
  {
   "cell_type": "markdown",
   "id": "1027a4dd",
   "metadata": {},
   "source": [
    "## 2.1 檢查重複值"
   ]
  },
  {
   "cell_type": "code",
   "execution_count": 121,
   "id": "3d62fd38",
   "metadata": {},
   "outputs": [
    {
     "data": {
      "text/plain": [
       "0"
      ]
     },
     "execution_count": 121,
     "metadata": {},
     "output_type": "execute_result"
    }
   ],
   "source": [
    "# df.duplicated()\n",
    "df.duplicated().sum()"
   ]
  },
  {
   "cell_type": "markdown",
   "id": "b1b91b81",
   "metadata": {},
   "source": [
    "## 2.2 處理缺失值"
   ]
  },
  {
   "cell_type": "code",
   "execution_count": 122,
   "id": "26bd9e9e",
   "metadata": {},
   "outputs": [
    {
     "data": {
      "text/plain": [
       "訂單編號    0\n",
       "顧客姓名    0\n",
       "購買次數    0\n",
       "訂單日期    0\n",
       "訂單金額    0\n",
       "dtype: int64"
      ]
     },
     "execution_count": 122,
     "metadata": {},
     "output_type": "execute_result"
    }
   ],
   "source": [
    "# df.isnull()\n",
    "df.isnull().sum()"
   ]
  },
  {
   "cell_type": "markdown",
   "id": "84c387d0",
   "metadata": {},
   "source": [
    "## 2.3 數據格式-標準化處理"
   ]
  },
  {
   "cell_type": "code",
   "execution_count": 123,
   "id": "e3770353",
   "metadata": {},
   "outputs": [
    {
     "name": "stdout",
     "output_type": "stream",
     "text": [
      "<class 'pandas.core.frame.DataFrame'>\n",
      "RangeIndex: 1563 entries, 0 to 1562\n",
      "Data columns (total 5 columns):\n",
      " #   Column  Non-Null Count  Dtype         \n",
      "---  ------  --------------  -----         \n",
      " 0   訂單編號    1563 non-null   int64         \n",
      " 1   顧客姓名    1563 non-null   object        \n",
      " 2   購買次數    1563 non-null   int64         \n",
      " 3   訂單日期    1563 non-null   datetime64[ns]\n",
      " 4   訂單金額    1563 non-null   int64         \n",
      "dtypes: datetime64[ns](1), int64(3), object(1)\n",
      "memory usage: 61.2+ KB\n"
     ]
    }
   ],
   "source": [
    "df.訂單日期 = pd.to_datetime(df.訂單日期,format='%Y/%m/%d')\n",
    "df.info()"
   ]
  },
  {
   "cell_type": "markdown",
   "id": "8c043e29",
   "metadata": {},
   "source": [
    "## 2.4 異常值處理"
   ]
  },
  {
   "cell_type": "code",
   "execution_count": 124,
   "id": "c8b260da",
   "metadata": {},
   "outputs": [
    {
     "data": {
      "text/html": [
       "<div>\n",
       "<style scoped>\n",
       "    .dataframe tbody tr th:only-of-type {\n",
       "        vertical-align: middle;\n",
       "    }\n",
       "\n",
       "    .dataframe tbody tr th {\n",
       "        vertical-align: top;\n",
       "    }\n",
       "\n",
       "    .dataframe thead th {\n",
       "        text-align: right;\n",
       "    }\n",
       "</style>\n",
       "<table border=\"1\" class=\"dataframe\">\n",
       "  <thead>\n",
       "    <tr style=\"text-align: right;\">\n",
       "      <th></th>\n",
       "      <th>購買次數</th>\n",
       "      <th>訂單金額</th>\n",
       "    </tr>\n",
       "  </thead>\n",
       "  <tbody>\n",
       "    <tr>\n",
       "      <th>count</th>\n",
       "      <td>1563.000000</td>\n",
       "      <td>1563.000000</td>\n",
       "    </tr>\n",
       "    <tr>\n",
       "      <th>mean</th>\n",
       "      <td>7.655150</td>\n",
       "      <td>4338.795905</td>\n",
       "    </tr>\n",
       "    <tr>\n",
       "      <th>std</th>\n",
       "      <td>3.866128</td>\n",
       "      <td>1658.468860</td>\n",
       "    </tr>\n",
       "    <tr>\n",
       "      <th>min</th>\n",
       "      <td>1.000000</td>\n",
       "      <td>300.000000</td>\n",
       "    </tr>\n",
       "    <tr>\n",
       "      <th>25%</th>\n",
       "      <td>5.000000</td>\n",
       "      <td>3459.000000</td>\n",
       "    </tr>\n",
       "    <tr>\n",
       "      <th>50%</th>\n",
       "      <td>7.000000</td>\n",
       "      <td>4598.000000</td>\n",
       "    </tr>\n",
       "    <tr>\n",
       "      <th>75%</th>\n",
       "      <td>9.000000</td>\n",
       "      <td>5488.000000</td>\n",
       "    </tr>\n",
       "    <tr>\n",
       "      <th>max</th>\n",
       "      <td>25.000000</td>\n",
       "      <td>8316.000000</td>\n",
       "    </tr>\n",
       "  </tbody>\n",
       "</table>\n",
       "</div>"
      ],
      "text/plain": [
       "              購買次數         訂單金額\n",
       "count  1563.000000  1563.000000\n",
       "mean      7.655150  4338.795905\n",
       "std       3.866128  1658.468860\n",
       "min       1.000000   300.000000\n",
       "25%       5.000000  3459.000000\n",
       "50%       7.000000  4598.000000\n",
       "75%       9.000000  5488.000000\n",
       "max      25.000000  8316.000000"
      ]
     },
     "execution_count": 124,
     "metadata": {},
     "output_type": "execute_result"
    }
   ],
   "source": [
    "df[['購買次數' ,'訂單金額']].describe()"
   ]
  },
  {
   "cell_type": "markdown",
   "id": "83a705e4",
   "metadata": {},
   "source": [
    "# 3. 分析階段"
   ]
  },
  {
   "cell_type": "markdown",
   "id": "513befdf",
   "metadata": {},
   "source": [
    "## 1. 消費情況按月分析\n",
    "### 每月消費總金額趨勢分析"
   ]
  },
  {
   "cell_type": "code",
   "execution_count": 125,
   "id": "80e7f9c0",
   "metadata": {
    "scrolled": true
   },
   "outputs": [
    {
     "data": {
      "text/html": [
       "<div>\n",
       "<style scoped>\n",
       "    .dataframe tbody tr th:only-of-type {\n",
       "        vertical-align: middle;\n",
       "    }\n",
       "\n",
       "    .dataframe tbody tr th {\n",
       "        vertical-align: top;\n",
       "    }\n",
       "\n",
       "    .dataframe thead th {\n",
       "        text-align: right;\n",
       "    }\n",
       "</style>\n",
       "<table border=\"1\" class=\"dataframe\">\n",
       "  <thead>\n",
       "    <tr style=\"text-align: right;\">\n",
       "      <th></th>\n",
       "      <th>訂單編號</th>\n",
       "      <th>顧客姓名</th>\n",
       "      <th>購買次數</th>\n",
       "      <th>訂單日期</th>\n",
       "      <th>訂單金額</th>\n",
       "      <th>Month</th>\n",
       "    </tr>\n",
       "  </thead>\n",
       "  <tbody>\n",
       "    <tr>\n",
       "      <th>0</th>\n",
       "      <td>402</td>\n",
       "      <td>吳建宜</td>\n",
       "      <td>10</td>\n",
       "      <td>2021-01-01</td>\n",
       "      <td>6076</td>\n",
       "      <td>2021-01-01</td>\n",
       "    </tr>\n",
       "    <tr>\n",
       "      <th>1</th>\n",
       "      <td>654</td>\n",
       "      <td>王家傳</td>\n",
       "      <td>7</td>\n",
       "      <td>2021-01-01</td>\n",
       "      <td>6885</td>\n",
       "      <td>2021-01-01</td>\n",
       "    </tr>\n",
       "    <tr>\n",
       "      <th>2</th>\n",
       "      <td>1214</td>\n",
       "      <td>陳煜棠</td>\n",
       "      <td>6</td>\n",
       "      <td>2021-01-01</td>\n",
       "      <td>3339</td>\n",
       "      <td>2021-01-01</td>\n",
       "    </tr>\n",
       "    <tr>\n",
       "      <th>3</th>\n",
       "      <td>1262</td>\n",
       "      <td>吳秋燕</td>\n",
       "      <td>7</td>\n",
       "      <td>2021-01-01</td>\n",
       "      <td>2629</td>\n",
       "      <td>2021-01-01</td>\n",
       "    </tr>\n",
       "    <tr>\n",
       "      <th>4</th>\n",
       "      <td>1500</td>\n",
       "      <td>陳世賢</td>\n",
       "      <td>9</td>\n",
       "      <td>2021-01-01</td>\n",
       "      <td>5266</td>\n",
       "      <td>2021-01-01</td>\n",
       "    </tr>\n",
       "    <tr>\n",
       "      <th>...</th>\n",
       "      <td>...</td>\n",
       "      <td>...</td>\n",
       "      <td>...</td>\n",
       "      <td>...</td>\n",
       "      <td>...</td>\n",
       "      <td>...</td>\n",
       "    </tr>\n",
       "    <tr>\n",
       "      <th>1558</th>\n",
       "      <td>1161</td>\n",
       "      <td>陳世賢</td>\n",
       "      <td>4</td>\n",
       "      <td>2021-12-30</td>\n",
       "      <td>3249</td>\n",
       "      <td>2021-12-01</td>\n",
       "    </tr>\n",
       "    <tr>\n",
       "      <th>1559</th>\n",
       "      <td>1376</td>\n",
       "      <td>傅偉茹</td>\n",
       "      <td>7</td>\n",
       "      <td>2021-12-30</td>\n",
       "      <td>3369</td>\n",
       "      <td>2021-12-01</td>\n",
       "    </tr>\n",
       "    <tr>\n",
       "      <th>1560</th>\n",
       "      <td>1541</td>\n",
       "      <td>何讚美</td>\n",
       "      <td>5</td>\n",
       "      <td>2021-12-30</td>\n",
       "      <td>4287</td>\n",
       "      <td>2021-12-01</td>\n",
       "    </tr>\n",
       "    <tr>\n",
       "      <th>1561</th>\n",
       "      <td>666</td>\n",
       "      <td>頂秋雯</td>\n",
       "      <td>7</td>\n",
       "      <td>2021-12-31</td>\n",
       "      <td>4237</td>\n",
       "      <td>2021-12-01</td>\n",
       "    </tr>\n",
       "    <tr>\n",
       "      <th>1562</th>\n",
       "      <td>1288</td>\n",
       "      <td>謝岱融</td>\n",
       "      <td>10</td>\n",
       "      <td>2021-12-31</td>\n",
       "      <td>6566</td>\n",
       "      <td>2021-12-01</td>\n",
       "    </tr>\n",
       "  </tbody>\n",
       "</table>\n",
       "<p>1563 rows × 6 columns</p>\n",
       "</div>"
      ],
      "text/plain": [
       "      訂單編號 顧客姓名  購買次數       訂單日期  訂單金額      Month\n",
       "0      402  吳建宜    10 2021-01-01  6076 2021-01-01\n",
       "1      654  王家傳     7 2021-01-01  6885 2021-01-01\n",
       "2     1214  陳煜棠     6 2021-01-01  3339 2021-01-01\n",
       "3     1262  吳秋燕     7 2021-01-01  2629 2021-01-01\n",
       "4     1500  陳世賢     9 2021-01-01  5266 2021-01-01\n",
       "...    ...  ...   ...        ...   ...        ...\n",
       "1558  1161  陳世賢     4 2021-12-30  3249 2021-12-01\n",
       "1559  1376  傅偉茹     7 2021-12-30  3369 2021-12-01\n",
       "1560  1541  何讚美     5 2021-12-30  4287 2021-12-01\n",
       "1561   666  頂秋雯     7 2021-12-31  4237 2021-12-01\n",
       "1562  1288  謝岱融    10 2021-12-31  6566 2021-12-01\n",
       "\n",
       "[1563 rows x 6 columns]"
      ]
     },
     "execution_count": 125,
     "metadata": {},
     "output_type": "execute_result"
    }
   ],
   "source": [
    "df['Month']=df.訂單日期.astype('datetime64[M]')\n",
    "# df.head()\n",
    "df"
   ]
  },
  {
   "cell_type": "code",
   "execution_count": 126,
   "id": "0eae72b2",
   "metadata": {},
   "outputs": [],
   "source": [
    "grouped_month = df.groupby('Month')"
   ]
  },
  {
   "cell_type": "code",
   "execution_count": 127,
   "id": "227b6513",
   "metadata": {},
   "outputs": [
    {
     "data": {
      "text/plain": [
       "Month\n",
       "2021-01-01    734841\n",
       "2021-02-01    595174\n",
       "2021-03-01    509628\n",
       "2021-04-01    489674\n",
       "2021-05-01    625753\n",
       "2021-06-01    506190\n",
       "2021-07-01    601904\n",
       "2021-08-01    572281\n",
       "2021-09-01    479154\n",
       "2021-10-01    517386\n",
       "2021-11-01    552478\n",
       "2021-12-01    597075\n",
       "Name: 訂單金額, dtype: int64"
      ]
     },
     "execution_count": 127,
     "metadata": {},
     "output_type": "execute_result"
    }
   ],
   "source": [
    "grouped_month.訂單金額.sum()"
   ]
  },
  {
   "cell_type": "markdown",
   "id": "1641681e",
   "metadata": {},
   "source": [
    "### 每月訂單金額折線圖"
   ]
  },
  {
   "cell_type": "code",
   "execution_count": 128,
   "id": "40b637ed",
   "metadata": {},
   "outputs": [
    {
     "data": {
      "text/plain": [
       "<AxesSubplot:xlabel='Month'>"
      ]
     },
     "execution_count": 128,
     "metadata": {},
     "output_type": "execute_result"
    },
    {
     "data": {
      "image/png": "[encoded data removed]",
      "text/plain": [
       "<Figure size 432x288 with 1 Axes>"
      ]
     },
     "metadata": {},
     "output_type": "display_data"
    }
   ],
   "source": [
    "grouped_month.訂單金額.sum().plot()"
   ]
  },
  {
   "cell_type": "markdown",
   "id": "6d1b05d3",
   "metadata": {},
   "source": [
    "### 每月訂單數量折線圖"
   ]
  },
  {
   "cell_type": "code",
   "execution_count": 129,
   "id": "7c6546df",
   "metadata": {},
   "outputs": [
    {
     "data": {
      "text/plain": [
       "<AxesSubplot:xlabel='Month'>"
      ]
     },
     "execution_count": 129,
     "metadata": {},
     "output_type": "execute_result"
    },
    {
     "data": {
      "image/png": "[encoded data removed]",
      "text/plain": [
       "<Figure size 432x288 with 1 Axes>"
      ]
     },
     "metadata": {},
     "output_type": "display_data"
    }
   ],
   "source": [
    "grouped_month.訂單編號.nunique().head(13).plot()"
   ]
  },
  {
   "cell_type": "markdown",
   "id": "35f9a94a",
   "metadata": {},
   "source": [
    "### 用戶分佈分析"
   ]
  },
  {
   "cell_type": "code",
   "execution_count": 130,
   "id": "7b757716",
   "metadata": {},
   "outputs": [
    {
     "data": {
      "text/plain": [
       "<AxesSubplot:>"
      ]
     },
     "execution_count": 130,
     "metadata": {},
     "output_type": "execute_result"
    },
    {
     "data": {
      "image/png": "[encoded data removed]",
      "text/plain": [
       "<Figure size 432x288 with 1 Axes>"
      ]
     },
     "metadata": {},
     "output_type": "display_data"
    }
   ],
   "source": [
    "df.groupby('顧客姓名').訂單日期.min().value_counts().plot()"
   ]
  },
  {
   "cell_type": "markdown",
   "id": "3934db92",
   "metadata": {},
   "source": [
    "### 新用戶每月人數"
   ]
  },
  {
   "cell_type": "code",
   "execution_count": 131,
   "id": "d3527810",
   "metadata": {},
   "outputs": [
    {
     "data": {
      "text/plain": [
       "<AxesSubplot:>"
      ]
     },
     "execution_count": 131,
     "metadata": {},
     "output_type": "execute_result"
    },
    {
     "data": {
      "image/png": "[encoded data removed]",
      "text/plain": [
       "<Figure size 432x288 with 1 Axes>"
      ]
     },
     "metadata": {},
     "output_type": "display_data"
    }
   ],
   "source": [
    "df.groupby('顧客姓名').Month.min().value_counts().plot()"
   ]
  },
  {
   "cell_type": "markdown",
   "id": "b3fa4a75",
   "metadata": {},
   "source": [
    "# 4. 用戶分層分析"
   ]
  },
  {
   "cell_type": "markdown",
   "id": "b2a7d291",
   "metadata": {},
   "source": [
    "## RFM分層分析\n",
    "### Recency（上次消費的日期）、Frequency（消費頻率）、Monetary（消費金額）\n",
    "- Recency（上次消費的日期）近期有消費過的顧客，會是最有可能再次回購的人，因此可以針對這群人發放折價優惠或是商品訊息。\n",
    "- Frequency（消費頻率）\n",
    "消費頻率越高的人就越有可能是品牌的忠誠顧客，也因此可以透過行銷策略，持續提高這群人的購買意願。\n",
    "- Monetary（消費金額）\n",
    "消費金額的多寡過去常被視為較重要的要素，但是結合 Recency、Frequency 就會是一個完整的顧客消費輪廓。\n",
    "未來若是要採用分眾行銷，RFM 模型就會是個參考依據。"
   ]
  },
  {
   "cell_type": "code",
   "execution_count": 132,
   "id": "58e7a6b1",
   "metadata": {},
   "outputs": [],
   "source": [
    "pivot_rfm = df.pivot_table(index='顧客姓名',\n",
    "                          values=['訂單日期', '購買次數', '訂單金額'],\n",
    "                          aggfunc={'訂單日期':'max' , '購買次數':'nunique', '訂單金額':'sum'})"
   ]
  },
  {
   "cell_type": "code",
   "execution_count": 133,
   "id": "cc6b6f85",
   "metadata": {},
   "outputs": [],
   "source": [
    "pivot_rfm['R'] = (pivot_rfm.訂單日期.max() - pivot_rfm.訂單日期)/np.timedelta64(1, 'D')\n",
    "pivot_rfm.rename(columns={'購買次數':'F', '訂單金額':'M'}, inplace=True)"
   ]
  },
  {
   "cell_type": "code",
   "execution_count": 134,
   "id": "364e81f9",
   "metadata": {},
   "outputs": [],
   "source": [
    "def label_func(df):\n",
    "    label = df.apply(lambda x:'1' if x > 0 else '0')\n",
    "    label = label.R + label.F + label.M\n",
    "    labels = {\n",
    "        '111':'111重要價值客戶important value',\n",
    "        '011':'011重要保持客戶important keep',\n",
    "        '101':'101重要發展客戶important develop',\n",
    "        '001':'001重要挽留客戶important retain',\n",
    "        '110':'110一般價值客戶generally value',\n",
    "        '010':'010一般保持客戶generally keep',\n",
    "        '100':'100一般發展客戶generally develop',\n",
    "        '000':'000一般挽留客戶generally retain'\n",
    "    }\n",
    "    return labels[label]\n",
    "pivot_rfm['label'] = pivot_rfm[['R','F','M']].apply(lambda x:x-x.mean()).apply(label_func, axis=1)"
   ]
  },
  {
   "cell_type": "code",
   "execution_count": 135,
   "id": "7daa4451",
   "metadata": {},
   "outputs": [
    {
     "data": {
      "text/plain": [
       "<AxesSubplot:>"
      ]
     },
     "execution_count": 135,
     "metadata": {},
     "output_type": "execute_result"
    },
    {
     "name": "stderr",
     "output_type": "stream",
     "text": [
      "/Users/yiting/opt/anaconda3/envs/py36_13/lib/python3.6/site-packages/matplotlib/backends/backend_agg.py:238: RuntimeWarning: Glyph 19968 missing from current font.\n",
      "  font.set_text(s, 0.0, flags=flags)\n",
      "/Users/yiting/opt/anaconda3/envs/py36_13/lib/python3.6/site-packages/matplotlib/backends/backend_agg.py:238: RuntimeWarning: Glyph 33324 missing from current font.\n",
      "  font.set_text(s, 0.0, flags=flags)\n",
      "/Users/yiting/opt/anaconda3/envs/py36_13/lib/python3.6/site-packages/matplotlib/backends/backend_agg.py:238: RuntimeWarning: Glyph 30332 missing from current font.\n",
      "  font.set_text(s, 0.0, flags=flags)\n",
      "/Users/yiting/opt/anaconda3/envs/py36_13/lib/python3.6/site-packages/matplotlib/backends/backend_agg.py:238: RuntimeWarning: Glyph 23637 missing from current font.\n",
      "  font.set_text(s, 0.0, flags=flags)\n",
      "/Users/yiting/opt/anaconda3/envs/py36_13/lib/python3.6/site-packages/matplotlib/backends/backend_agg.py:238: RuntimeWarning: Glyph 23458 missing from current font.\n",
      "  font.set_text(s, 0.0, flags=flags)\n",
      "/Users/yiting/opt/anaconda3/envs/py36_13/lib/python3.6/site-packages/matplotlib/backends/backend_agg.py:238: RuntimeWarning: Glyph 25142 missing from current font.\n",
      "  font.set_text(s, 0.0, flags=flags)\n",
      "/Users/yiting/opt/anaconda3/envs/py36_13/lib/python3.6/site-packages/matplotlib/backends/backend_agg.py:238: RuntimeWarning: Glyph 37325 missing from current font.\n",
      "  font.set_text(s, 0.0, flags=flags)\n",
      "/Users/yiting/opt/anaconda3/envs/py36_13/lib/python3.6/site-packages/matplotlib/backends/backend_agg.py:238: RuntimeWarning: Glyph 35201 missing from current font.\n",
      "  font.set_text(s, 0.0, flags=flags)\n",
      "/Users/yiting/opt/anaconda3/envs/py36_13/lib/python3.6/site-packages/matplotlib/backends/backend_agg.py:238: RuntimeWarning: Glyph 20445 missing from current font.\n",
      "  font.set_text(s, 0.0, flags=flags)\n",
      "/Users/yiting/opt/anaconda3/envs/py36_13/lib/python3.6/site-packages/matplotlib/backends/backend_agg.py:238: RuntimeWarning: Glyph 25345 missing from current font.\n",
      "  font.set_text(s, 0.0, flags=flags)\n",
      "/Users/yiting/opt/anaconda3/envs/py36_13/lib/python3.6/site-packages/matplotlib/backends/backend_agg.py:238: RuntimeWarning: Glyph 25405 missing from current font.\n",
      "  font.set_text(s, 0.0, flags=flags)\n",
      "/Users/yiting/opt/anaconda3/envs/py36_13/lib/python3.6/site-packages/matplotlib/backends/backend_agg.py:238: RuntimeWarning: Glyph 30041 missing from current font.\n",
      "  font.set_text(s, 0.0, flags=flags)\n",
      "/Users/yiting/opt/anaconda3/envs/py36_13/lib/python3.6/site-packages/matplotlib/backends/backend_agg.py:238: RuntimeWarning: Glyph 20729 missing from current font.\n",
      "  font.set_text(s, 0.0, flags=flags)\n",
      "/Users/yiting/opt/anaconda3/envs/py36_13/lib/python3.6/site-packages/matplotlib/backends/backend_agg.py:238: RuntimeWarning: Glyph 20540 missing from current font.\n",
      "  font.set_text(s, 0.0, flags=flags)\n",
      "/Users/yiting/opt/anaconda3/envs/py36_13/lib/python3.6/site-packages/matplotlib/backends/backend_agg.py:201: RuntimeWarning: Glyph 19968 missing from current font.\n",
      "  font.set_text(s, 0, flags=flags)\n",
      "/Users/yiting/opt/anaconda3/envs/py36_13/lib/python3.6/site-packages/matplotlib/backends/backend_agg.py:201: RuntimeWarning: Glyph 33324 missing from current font.\n",
      "  font.set_text(s, 0, flags=flags)\n",
      "/Users/yiting/opt/anaconda3/envs/py36_13/lib/python3.6/site-packages/matplotlib/backends/backend_agg.py:201: RuntimeWarning: Glyph 30332 missing from current font.\n",
      "  font.set_text(s, 0, flags=flags)\n",
      "/Users/yiting/opt/anaconda3/envs/py36_13/lib/python3.6/site-packages/matplotlib/backends/backend_agg.py:201: RuntimeWarning: Glyph 23637 missing from current font.\n",
      "  font.set_text(s, 0, flags=flags)\n",
      "/Users/yiting/opt/anaconda3/envs/py36_13/lib/python3.6/site-packages/matplotlib/backends/backend_agg.py:201: RuntimeWarning: Glyph 23458 missing from current font.\n",
      "  font.set_text(s, 0, flags=flags)\n",
      "/Users/yiting/opt/anaconda3/envs/py36_13/lib/python3.6/site-packages/matplotlib/backends/backend_agg.py:201: RuntimeWarning: Glyph 25142 missing from current font.\n",
      "  font.set_text(s, 0, flags=flags)\n",
      "/Users/yiting/opt/anaconda3/envs/py36_13/lib/python3.6/site-packages/matplotlib/backends/backend_agg.py:201: RuntimeWarning: Glyph 37325 missing from current font.\n",
      "  font.set_text(s, 0, flags=flags)\n",
      "/Users/yiting/opt/anaconda3/envs/py36_13/lib/python3.6/site-packages/matplotlib/backends/backend_agg.py:201: RuntimeWarning: Glyph 35201 missing from current font.\n",
      "  font.set_text(s, 0, flags=flags)\n",
      "/Users/yiting/opt/anaconda3/envs/py36_13/lib/python3.6/site-packages/matplotlib/backends/backend_agg.py:201: RuntimeWarning: Glyph 20445 missing from current font.\n",
      "  font.set_text(s, 0, flags=flags)\n",
      "/Users/yiting/opt/anaconda3/envs/py36_13/lib/python3.6/site-packages/matplotlib/backends/backend_agg.py:201: RuntimeWarning: Glyph 25345 missing from current font.\n",
      "  font.set_text(s, 0, flags=flags)\n",
      "/Users/yiting/opt/anaconda3/envs/py36_13/lib/python3.6/site-packages/matplotlib/backends/backend_agg.py:201: RuntimeWarning: Glyph 25405 missing from current font.\n",
      "  font.set_text(s, 0, flags=flags)\n",
      "/Users/yiting/opt/anaconda3/envs/py36_13/lib/python3.6/site-packages/matplotlib/backends/backend_agg.py:201: RuntimeWarning: Glyph 30041 missing from current font.\n",
      "  font.set_text(s, 0, flags=flags)\n",
      "/Users/yiting/opt/anaconda3/envs/py36_13/lib/python3.6/site-packages/matplotlib/backends/backend_agg.py:201: RuntimeWarning: Glyph 20729 missing from current font.\n",
      "  font.set_text(s, 0, flags=flags)\n",
      "/Users/yiting/opt/anaconda3/envs/py36_13/lib/python3.6/site-packages/matplotlib/backends/backend_agg.py:201: RuntimeWarning: Glyph 20540 missing from current font.\n",
      "  font.set_text(s, 0, flags=flags)\n"
     ]
    },
    {
     "data": {
      "image/png": "[encoded data removed]",
      "text/plain": [
       "<Figure size 432x288 with 1 Axes>"
      ]
     },
     "metadata": {},
     "output_type": "display_data"
    }
   ],
   "source": [
    "pivot_rfm.label.value_counts().plot.barh()"
   ]
  },
  {
   "cell_type": "markdown",
   "id": "8dc87cfd",
   "metadata": {},
   "source": [
    "## 客戶分層消費金額占比"
   ]
  },
  {
   "cell_type": "code",
   "execution_count": 136,
   "id": "c94bf3ec",
   "metadata": {},
   "outputs": [
    {
     "data": {
      "text/plain": [
       "<AxesSubplot:ylabel='M'>"
      ]
     },
     "execution_count": 136,
     "metadata": {},
     "output_type": "execute_result"
    },
    {
     "name": "stderr",
     "output_type": "stream",
     "text": [
      "/Users/yiting/opt/anaconda3/envs/py36_13/lib/python3.6/site-packages/matplotlib/backends/backend_agg.py:238: RuntimeWarning: Glyph 19968 missing from current font.\n",
      "  font.set_text(s, 0.0, flags=flags)\n",
      "/Users/yiting/opt/anaconda3/envs/py36_13/lib/python3.6/site-packages/matplotlib/backends/backend_agg.py:238: RuntimeWarning: Glyph 33324 missing from current font.\n",
      "  font.set_text(s, 0.0, flags=flags)\n",
      "/Users/yiting/opt/anaconda3/envs/py36_13/lib/python3.6/site-packages/matplotlib/backends/backend_agg.py:238: RuntimeWarning: Glyph 25405 missing from current font.\n",
      "  font.set_text(s, 0.0, flags=flags)\n",
      "/Users/yiting/opt/anaconda3/envs/py36_13/lib/python3.6/site-packages/matplotlib/backends/backend_agg.py:238: RuntimeWarning: Glyph 30041 missing from current font.\n",
      "  font.set_text(s, 0.0, flags=flags)\n",
      "/Users/yiting/opt/anaconda3/envs/py36_13/lib/python3.6/site-packages/matplotlib/backends/backend_agg.py:238: RuntimeWarning: Glyph 23458 missing from current font.\n",
      "  font.set_text(s, 0.0, flags=flags)\n",
      "/Users/yiting/opt/anaconda3/envs/py36_13/lib/python3.6/site-packages/matplotlib/backends/backend_agg.py:238: RuntimeWarning: Glyph 25142 missing from current font.\n",
      "  font.set_text(s, 0.0, flags=flags)\n",
      "/Users/yiting/opt/anaconda3/envs/py36_13/lib/python3.6/site-packages/matplotlib/backends/backend_agg.py:238: RuntimeWarning: Glyph 37325 missing from current font.\n",
      "  font.set_text(s, 0.0, flags=flags)\n",
      "/Users/yiting/opt/anaconda3/envs/py36_13/lib/python3.6/site-packages/matplotlib/backends/backend_agg.py:238: RuntimeWarning: Glyph 35201 missing from current font.\n",
      "  font.set_text(s, 0.0, flags=flags)\n",
      "/Users/yiting/opt/anaconda3/envs/py36_13/lib/python3.6/site-packages/matplotlib/backends/backend_agg.py:238: RuntimeWarning: Glyph 20445 missing from current font.\n",
      "  font.set_text(s, 0.0, flags=flags)\n",
      "/Users/yiting/opt/anaconda3/envs/py36_13/lib/python3.6/site-packages/matplotlib/backends/backend_agg.py:238: RuntimeWarning: Glyph 25345 missing from current font.\n",
      "  font.set_text(s, 0.0, flags=flags)\n",
      "/Users/yiting/opt/anaconda3/envs/py36_13/lib/python3.6/site-packages/matplotlib/backends/backend_agg.py:238: RuntimeWarning: Glyph 30332 missing from current font.\n",
      "  font.set_text(s, 0.0, flags=flags)\n",
      "/Users/yiting/opt/anaconda3/envs/py36_13/lib/python3.6/site-packages/matplotlib/backends/backend_agg.py:238: RuntimeWarning: Glyph 23637 missing from current font.\n",
      "  font.set_text(s, 0.0, flags=flags)\n",
      "/Users/yiting/opt/anaconda3/envs/py36_13/lib/python3.6/site-packages/matplotlib/backends/backend_agg.py:238: RuntimeWarning: Glyph 20729 missing from current font.\n",
      "  font.set_text(s, 0.0, flags=flags)\n",
      "/Users/yiting/opt/anaconda3/envs/py36_13/lib/python3.6/site-packages/matplotlib/backends/backend_agg.py:238: RuntimeWarning: Glyph 20540 missing from current font.\n",
      "  font.set_text(s, 0.0, flags=flags)\n",
      "/Users/yiting/opt/anaconda3/envs/py36_13/lib/python3.6/site-packages/matplotlib/backends/backend_agg.py:201: RuntimeWarning: Glyph 19968 missing from current font.\n",
      "  font.set_text(s, 0, flags=flags)\n",
      "/Users/yiting/opt/anaconda3/envs/py36_13/lib/python3.6/site-packages/matplotlib/backends/backend_agg.py:201: RuntimeWarning: Glyph 33324 missing from current font.\n",
      "  font.set_text(s, 0, flags=flags)\n",
      "/Users/yiting/opt/anaconda3/envs/py36_13/lib/python3.6/site-packages/matplotlib/backends/backend_agg.py:201: RuntimeWarning: Glyph 25405 missing from current font.\n",
      "  font.set_text(s, 0, flags=flags)\n",
      "/Users/yiting/opt/anaconda3/envs/py36_13/lib/python3.6/site-packages/matplotlib/backends/backend_agg.py:201: RuntimeWarning: Glyph 30041 missing from current font.\n",
      "  font.set_text(s, 0, flags=flags)\n",
      "/Users/yiting/opt/anaconda3/envs/py36_13/lib/python3.6/site-packages/matplotlib/backends/backend_agg.py:201: RuntimeWarning: Glyph 23458 missing from current font.\n",
      "  font.set_text(s, 0, flags=flags)\n",
      "/Users/yiting/opt/anaconda3/envs/py36_13/lib/python3.6/site-packages/matplotlib/backends/backend_agg.py:201: RuntimeWarning: Glyph 25142 missing from current font.\n",
      "  font.set_text(s, 0, flags=flags)\n",
      "/Users/yiting/opt/anaconda3/envs/py36_13/lib/python3.6/site-packages/matplotlib/backends/backend_agg.py:201: RuntimeWarning: Glyph 37325 missing from current font.\n",
      "  font.set_text(s, 0, flags=flags)\n",
      "/Users/yiting/opt/anaconda3/envs/py36_13/lib/python3.6/site-packages/matplotlib/backends/backend_agg.py:201: RuntimeWarning: Glyph 35201 missing from current font.\n",
      "  font.set_text(s, 0, flags=flags)\n",
      "/Users/yiting/opt/anaconda3/envs/py36_13/lib/python3.6/site-packages/matplotlib/backends/backend_agg.py:201: RuntimeWarning: Glyph 20445 missing from current font.\n",
      "  font.set_text(s, 0, flags=flags)\n",
      "/Users/yiting/opt/anaconda3/envs/py36_13/lib/python3.6/site-packages/matplotlib/backends/backend_agg.py:201: RuntimeWarning: Glyph 25345 missing from current font.\n",
      "  font.set_text(s, 0, flags=flags)\n",
      "/Users/yiting/opt/anaconda3/envs/py36_13/lib/python3.6/site-packages/matplotlib/backends/backend_agg.py:201: RuntimeWarning: Glyph 30332 missing from current font.\n",
      "  font.set_text(s, 0, flags=flags)\n",
      "/Users/yiting/opt/anaconda3/envs/py36_13/lib/python3.6/site-packages/matplotlib/backends/backend_agg.py:201: RuntimeWarning: Glyph 23637 missing from current font.\n",
      "  font.set_text(s, 0, flags=flags)\n",
      "/Users/yiting/opt/anaconda3/envs/py36_13/lib/python3.6/site-packages/matplotlib/backends/backend_agg.py:201: RuntimeWarning: Glyph 20729 missing from current font.\n",
      "  font.set_text(s, 0, flags=flags)\n",
      "/Users/yiting/opt/anaconda3/envs/py36_13/lib/python3.6/site-packages/matplotlib/backends/backend_agg.py:201: RuntimeWarning: Glyph 20540 missing from current font.\n",
      "  font.set_text(s, 0, flags=flags)\n"
     ]
    },
    {
     "data": {
      "image/png": "[encoded data removed]",
      "text/plain": [
       "<Figure size 432x432 with 1 Axes>"
      ]
     },
     "metadata": {},
     "output_type": "display_data"
    }
   ],
   "source": [
    "pivot_rfm.groupby('label').M.sum().plot.pie(figsize=(6,6), autopct='%3.2f%%')"
   ]
  },
  {
   "cell_type": "code",
   "execution_count": 137,
   "id": "29f6bce1",
   "metadata": {},
   "outputs": [
    {
     "data": {
      "text/html": [
       "<div>\n",
       "<style scoped>\n",
       "    .dataframe tbody tr th:only-of-type {\n",
       "        vertical-align: middle;\n",
       "    }\n",
       "\n",
       "    .dataframe tbody tr th {\n",
       "        vertical-align: top;\n",
       "    }\n",
       "\n",
       "    .dataframe thead tr th {\n",
       "        text-align: left;\n",
       "    }\n",
       "\n",
       "    .dataframe thead tr:last-of-type th {\n",
       "        text-align: right;\n",
       "    }\n",
       "</style>\n",
       "<table border=\"1\" class=\"dataframe\">\n",
       "  <thead>\n",
       "    <tr>\n",
       "      <th></th>\n",
       "      <th colspan=\"2\" halign=\"left\">M</th>\n",
       "      <th colspan=\"2\" halign=\"left\">F</th>\n",
       "      <th colspan=\"2\" halign=\"left\">R</th>\n",
       "    </tr>\n",
       "    <tr>\n",
       "      <th></th>\n",
       "      <th>sum</th>\n",
       "      <th>count</th>\n",
       "      <th>sum</th>\n",
       "      <th>count</th>\n",
       "      <th>sum</th>\n",
       "      <th>count</th>\n",
       "    </tr>\n",
       "    <tr>\n",
       "      <th>label</th>\n",
       "      <th></th>\n",
       "      <th></th>\n",
       "      <th></th>\n",
       "      <th></th>\n",
       "      <th></th>\n",
       "      <th></th>\n",
       "    </tr>\n",
       "  </thead>\n",
       "  <tbody>\n",
       "    <tr>\n",
       "      <th>000一般挽留客戶generally retain</th>\n",
       "      <td>90049</td>\n",
       "      <td>43</td>\n",
       "      <td>43</td>\n",
       "      <td>43</td>\n",
       "      <td>3640.0</td>\n",
       "      <td>43</td>\n",
       "    </tr>\n",
       "    <tr>\n",
       "      <th>011重要保持客戶important keep</th>\n",
       "      <td>6418913</td>\n",
       "      <td>94</td>\n",
       "      <td>738</td>\n",
       "      <td>94</td>\n",
       "      <td>2708.0</td>\n",
       "      <td>94</td>\n",
       "    </tr>\n",
       "    <tr>\n",
       "      <th>100一般發展客戶generally develop</th>\n",
       "      <td>215855</td>\n",
       "      <td>117</td>\n",
       "      <td>117</td>\n",
       "      <td>117</td>\n",
       "      <td>35698.0</td>\n",
       "      <td>117</td>\n",
       "    </tr>\n",
       "    <tr>\n",
       "      <th>110一般價值客戶generally value</th>\n",
       "      <td>23506</td>\n",
       "      <td>1</td>\n",
       "      <td>4</td>\n",
       "      <td>1</td>\n",
       "      <td>192.0</td>\n",
       "      <td>1</td>\n",
       "    </tr>\n",
       "    <tr>\n",
       "      <th>111重要價值客戶important value</th>\n",
       "      <td>33215</td>\n",
       "      <td>1</td>\n",
       "      <td>6</td>\n",
       "      <td>1</td>\n",
       "      <td>235.0</td>\n",
       "      <td>1</td>\n",
       "    </tr>\n",
       "  </tbody>\n",
       "</table>\n",
       "</div>"
      ],
      "text/plain": [
       "                                  M          F              R      \n",
       "                                sum count  sum count      sum count\n",
       "label                                                              \n",
       "000一般挽留客戶generally retain     90049    43   43    43   3640.0    43\n",
       "011重要保持客戶important keep     6418913    94  738    94   2708.0    94\n",
       "100一般發展客戶generally develop   215855   117  117   117  35698.0   117\n",
       "110一般價值客戶generally value      23506     1    4     1    192.0     1\n",
       "111重要價值客戶important value      33215     1    6     1    235.0     1"
      ]
     },
     "execution_count": 137,
     "metadata": {},
     "output_type": "execute_result"
    }
   ],
   "source": [
    "pivot_rfm.groupby('label').agg(['sum','count'])"
   ]
  },
  {
   "cell_type": "markdown",
   "id": "773419b0",
   "metadata": {},
   "source": [
    "銷售額主要來源為重要發展客戶,人數佔比最高的為一般發展客戶\n",
    "\n",
    "重要保持客戶:\n",
    "重要價值客戶:\n",
    "重要發展客戶:銷售額的主要來源,人數佔比次高,近期有消費,且消費高,消費頻率不足,可以適當舉行營銷活動,提升此層客戶的購買頻率\n",
    "重要挽留客戶:銷售額次高,但頻次低目近期末消費,處在流失的邊緣,可以通過適當活動,使其參與到消費中來,防止流失\n",
    "一般價值客戶:\n",
    "一般發展客戶:人數佔比最高,近期有消費,但消費額以及消費頻次不高考慮到人教佔比高,可以話當舉辦活動提升消費頻次和消費額\n",
    "一般保持客戶:\n",
    "一般挽留客戶:在成本與資源控制下,酌情考慮"
   ]
  },
  {
   "cell_type": "markdown",
   "id": "4921fda2",
   "metadata": {},
   "source": [
    "## 用戶狀態分層分析"
   ]
  },
  {
   "cell_type": "code",
   "execution_count": 138,
   "id": "128726f9",
   "metadata": {},
   "outputs": [],
   "source": [
    "pivoted_status = df.pivot_table(index='顧客姓名', columns='Month', values='訂單日期', aggfunc='count').fillna(0)"
   ]
  },
  {
   "cell_type": "code",
   "execution_count": 139,
   "id": "c3955d08",
   "metadata": {},
   "outputs": [],
   "source": [
    "def active_status(df):\n",
    "    status = []\n",
    "    for i in range(len(df)):\n",
    "        # 若本月沒消費\n",
    "        if df[i] == 0:\n",
    "            if len(status) > 0:\n",
    "                if status[i-1] == 'unreg':\n",
    "                    status.append('unreg')\n",
    "                else:\n",
    "                    status.append('unactive')\n",
    "            else:\n",
    "                status.append('unreg')\n",
    "        # 若本月有消費\n",
    "        else:\n",
    "            if len(status) > 0:\n",
    "                if status[i-1] == 'unreg':\n",
    "                    status.append('new')\n",
    "                elif status[i-1] == 'unactive':\n",
    "                    status.append('return')\n",
    "                else:\n",
    "                    status.append('active')\n",
    "            else:\n",
    "                status.append('new')\n",
    "    status = pd.Series(status, index = df.index)\n",
    "    return status"
   ]
  },
  {
   "cell_type": "code",
   "execution_count": 140,
   "id": "f87d627c",
   "metadata": {},
   "outputs": [],
   "source": [
    "active_status = pivoted_status.apply(active_status, axis=1)"
   ]
  },
  {
   "cell_type": "code",
   "execution_count": 141,
   "id": "d2eb4da5",
   "metadata": {},
   "outputs": [
    {
     "data": {
      "text/plain": [
       "<AxesSubplot:xlabel='Month'>"
      ]
     },
     "execution_count": 141,
     "metadata": {},
     "output_type": "execute_result"
    },
    {
     "data": {
      "image/png": "[encoded data removed]",
      "text/plain": [
       "<Figure size 432x288 with 1 Axes>"
      ]
     },
     "metadata": {},
     "output_type": "display_data"
    }
   ],
   "source": [
    "active_status.replace('unreg', np.nan).apply(lambda x:x.value_counts()).fillna(0).T.apply(lambda x:x/x.sum(),axis=1).plot()"
   ]
  },
  {
   "cell_type": "markdown",
   "id": "d58ff95b",
   "metadata": {},
   "source": [
    "- 新用戶(藍)：新用戶佔比呈明顯下降趨勢,說明拉新客戶行銷不足\n",
    "- 活躍用戶(橘)：消費運營持續低落,說明消費營運持續下滑\n",
    "- 不活躍用戶(灰)：不活躍用戶呈明顯上升趨勢,客戶流失較為明顯\n",
    "- 回流客戶(紫)：消費運營持續低落,說明召回營運效果不佳"
   ]
  },
  {
   "cell_type": "code",
   "execution_count": null,
   "id": "ea2717f0",
   "metadata": {},
   "outputs": [],
   "source": []
  },
  {
   "cell_type": "code",
   "execution_count": null,
   "id": "f4e1105b-c21d-4055-a996-89952aa4a05d",
   "metadata": {},
   "outputs": [],
   "source": []
  }
 ],
 "metadata": {
  "kernelspec": {
   "display_name": "Python 3",
   "language": "python",
   "name": "python3"
  },
  "language_info": {
   "codemirror_mode": {
    "name": "ipython",
    "version": 3
   },
   "file_extension": ".py",
   "mimetype": "text/x-python",
   "name": "python",
   "nbconvert_exporter": "python",
   "pygments_lexer": "ipython3",
   "version": "3.6.13"
  }
 },
 "nbformat": 4,
 "nbformat_minor": 5
}
