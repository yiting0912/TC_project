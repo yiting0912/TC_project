{
 "cells": [
  {
   "cell_type": "code",
   "execution_count": 27,
   "id": "e31bf206",
   "metadata": {},
   "outputs": [],
   "source": [
    "import mysql.connector\n",
    "import pymysql\n",
    "\n",
    "host = 'localhost'\n",
    "port = 3306\n",
    "user = 'root'\n",
    "passwd = 'root'\n",
    "db = 'cocoa'\n",
    "charset = 'utf8mb4'\n",
    " \n",
    "connection = pymysql.connect(host=host, port=port, user=user, passwd=passwd, db=db, charset=charset)\n",
    "\n",
    "mycursor = connection.cursor()\n",
    "\n"
   ]
  },
  {
   "cell_type": "code",
   "execution_count": 28,
   "id": "d60473fb",
   "metadata": {},
   "outputs": [
    {
     "data": {
      "text/plain": [
       "0"
      ]
     },
     "execution_count": 28,
     "metadata": {},
     "output_type": "execute_result"
    }
   ],
   "source": [
    "# 移除表格\n",
    "# mycursor.execute('DROP TABLE IF EXISTS table_name')"
   ]
  },
  {
   "cell_type": "code",
   "execution_count": 23,
   "id": "4c94f05e",
   "metadata": {},
   "outputs": [
    {
     "name": "stdout",
     "output_type": "stream",
     "text": [
      "Database version : 8.0.20 \n"
     ]
    }
   ],
   "source": [
    "sql = 'SELECT VERSION()'\n",
    "mycursor.execute(sql)\n",
    "data = mycursor.fetchone()\n",
    "print (\"Database version : %s \" % data)"
   ]
  },
  {
   "cell_type": "code",
   "execution_count": 18,
   "id": "35df82ce",
   "metadata": {},
   "outputs": [],
   "source": [
    "#load_csv函式，引數分別為csv檔案路徑，表名稱，資料庫名稱\n",
    "def load_csv(csv_file_path,table_name,database='cocoa'):\n",
    "    #開啟csv檔案\n",
    "    file = open(TC_Data.csv, 'r',encoding='utf-8')\n",
    "    #讀取csv檔案第一行欄位名，建立表\n",
    "    reader = file.readline()\n",
    "    b = reader.split(',')\n",
    "    colum = ''\n",
    "    for a in b:\n",
    "        colum = colum + a + ' varchar(255),'\n",
    "    colum = colum[:-1]\n",
    "    #編寫sql，create_sql負責建立表，data_sql負責匯入資料\n",
    "    create_sql = 'create table if not exists ' + TC_DATA + ' ' + '(' + colum + ')' + ' DEFAULT CHARSET=utf8'\n",
    "    data_sql = \"LOAD DATA LOCAL INFILE '%s' INTO TABLE %s FIELDS TERMINATED BY ',' LINES TERMINATED BY '\\\\r\\\\n' IGNORE 1 LINES\" % (csv_filename,table_name)\n",
    " \n",
    "    #使用資料庫\n",
    "    cur.execute('use %s' % cocoa)\n",
    "    #設定編碼格式\n",
    "    cur.execute('SET NAMES utf8;')\n",
    "    cur.execute('SET character_set_connection=utf8;')\n",
    "    #執行create_sql，建立表\n",
    "    cur.execute(create_sql)\n",
    "    #執行data_sql，匯入資料\n",
    "    cur.execute(data_sql)\n",
    "    conn.commit()\n",
    "    #關閉連線\n",
    "    conn.close()\n",
    "    cur.close()"
   ]
  },
  {
   "cell_type": "code",
   "execution_count": 30,
   "id": "efc8e361",
   "metadata": {},
   "outputs": [],
   "source": [
    "connection.close()"
   ]
  },
  {
   "cell_type": "code",
   "execution_count": null,
   "id": "15b4cfa0",
   "metadata": {},
   "outputs": [],
   "source": []
  }
 ],
 "metadata": {
  "kernelspec": {
   "display_name": "Python 3",
   "language": "python",
   "name": "python3"
  },
  "language_info": {
   "codemirror_mode": {
    "name": "ipython",
    "version": 3
   },
   "file_extension": ".py",
   "mimetype": "text/x-python",
   "name": "python",
   "nbconvert_exporter": "python",
   "pygments_lexer": "ipython3",
   "version": "3.6.13"
  }
 },
 "nbformat": 4,
 "nbformat_minor": 5
}
