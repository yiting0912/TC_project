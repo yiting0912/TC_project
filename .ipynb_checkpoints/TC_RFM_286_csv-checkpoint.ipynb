{
 "cells": [
  {
   "cell_type": "markdown",
   "id": "04531c39",
   "metadata": {},
   "source": [
    "# 1. 原始數據"
   ]
  },
  {
   "cell_type": "code",
   "execution_count": null,
   "id": "6cd9dcbd",
   "metadata": {},
   "outputs": [],
   "source": [
    "# import os\n",
    "# import pymysql\n",
    "# import pandas as pd\n",
    "\n",
    "# host = os.getenv('MYSQL_HOST')\n",
    "# port = os.getenv('MYSQL_PORT')\n",
    "# user = os.getenv('MYSQL_USER')\n",
    "# password = os.getenv('MYSQL_PASSWORD')\n",
    "# database = os.getenv('MYSQL_DATABASE')\n",
    "\n",
    "# conn = pymysql.connect(\n",
    "#     host=host,\n",
    "#     port=int(3306),\n",
    "#     user=\"root\",\n",
    "#     passwd=password,\n",
    "#     db=\"[cocoa]\",\n",
    "#     charset='utf8mb4')\n",
    "\n",
    "# df = pd.read_sql_query(\"SELECT * FROM YOUR_TABLE\",\n",
    "#     conn)\n",
    "# df.tail(10)"
   ]
  },
  {
   "cell_type": "code",
   "execution_count": 1,
   "id": "c35fec16",
   "metadata": {},
   "outputs": [],
   "source": [
    "import numpy as np\n",
    "import pandas as pd\n",
    "from matplotlib import pyplot as plt\n",
    "import seaborn as sns\n",
    "import time\n",
    "import datetime as dt\n",
    "\n",
    "\n",
    "plt.style.use('ggplot')\n",
    "plt.rcParams['font.sans-serif'] = ['SimHei']\n"
   ]
  },
  {
   "cell_type": "code",
   "execution_count": 2,
   "id": "f03f9553",
   "metadata": {
    "scrolled": true
   },
   "outputs": [
    {
     "data": {
      "text/html": [
       "<div>\n",
       "<style scoped>\n",
       "    .dataframe tbody tr th:only-of-type {\n",
       "        vertical-align: middle;\n",
       "    }\n",
       "\n",
       "    .dataframe tbody tr th {\n",
       "        vertical-align: top;\n",
       "    }\n",
       "\n",
       "    .dataframe thead th {\n",
       "        text-align: right;\n",
       "    }\n",
       "</style>\n",
       "<table border=\"1\" class=\"dataframe\">\n",
       "  <thead>\n",
       "    <tr style=\"text-align: right;\">\n",
       "      <th></th>\n",
       "      <th>訂單編號</th>\n",
       "      <th>顧客姓名</th>\n",
       "      <th>購買次數</th>\n",
       "      <th>訂單日期</th>\n",
       "      <th>訂單時間</th>\n",
       "      <th>宅配地址(縣)</th>\n",
       "      <th>訂單來源</th>\n",
       "      <th>運費</th>\n",
       "      <th>訂單金額</th>\n",
       "      <th>訂單數量</th>\n",
       "      <th>...</th>\n",
       "      <th>海鹽巧克力BAR</th>\n",
       "      <th>花生巧克力BAR</th>\n",
       "      <th>抹茶拿鐵生巧克力</th>\n",
       "      <th>經典生巧克力</th>\n",
       "      <th>65%巧克力禮盒</th>\n",
       "      <th>75%巧克力禮盒</th>\n",
       "      <th>85%巧克力禮盒</th>\n",
       "      <th>95%巧克力禮盒</th>\n",
       "      <th>草莓季限定款巧克力禮盒</th>\n",
       "      <th>購買數量</th>\n",
       "    </tr>\n",
       "  </thead>\n",
       "  <tbody>\n",
       "    <tr>\n",
       "      <th>0</th>\n",
       "      <td>1011</td>\n",
       "      <td>邱啓芳</td>\n",
       "      <td>1</td>\n",
       "      <td>2021/1/15</td>\n",
       "      <td>15:41</td>\n",
       "      <td>臺南市</td>\n",
       "      <td>品牌官網</td>\n",
       "      <td>1</td>\n",
       "      <td>659</td>\n",
       "      <td>1</td>\n",
       "      <td>...</td>\n",
       "      <td>0</td>\n",
       "      <td>0</td>\n",
       "      <td>0</td>\n",
       "      <td>0</td>\n",
       "      <td>0</td>\n",
       "      <td>0</td>\n",
       "      <td>0</td>\n",
       "      <td>0</td>\n",
       "      <td>1</td>\n",
       "      <td>1</td>\n",
       "    </tr>\n",
       "    <tr>\n",
       "      <th>1</th>\n",
       "      <td>1012</td>\n",
       "      <td>陳雅雯</td>\n",
       "      <td>1</td>\n",
       "      <td>2021/1/15</td>\n",
       "      <td>15:47</td>\n",
       "      <td>新北市</td>\n",
       "      <td>品牌官網</td>\n",
       "      <td>0</td>\n",
       "      <td>2299</td>\n",
       "      <td>7</td>\n",
       "      <td>...</td>\n",
       "      <td>3</td>\n",
       "      <td>0</td>\n",
       "      <td>0</td>\n",
       "      <td>0</td>\n",
       "      <td>0</td>\n",
       "      <td>0</td>\n",
       "      <td>0</td>\n",
       "      <td>0</td>\n",
       "      <td>1</td>\n",
       "      <td>7</td>\n",
       "    </tr>\n",
       "    <tr>\n",
       "      <th>2</th>\n",
       "      <td>1013</td>\n",
       "      <td>鄭哲智</td>\n",
       "      <td>1</td>\n",
       "      <td>2021/1/15</td>\n",
       "      <td>16:30</td>\n",
       "      <td>屏東縣</td>\n",
       "      <td>FB</td>\n",
       "      <td>1</td>\n",
       "      <td>659</td>\n",
       "      <td>1</td>\n",
       "      <td>...</td>\n",
       "      <td>0</td>\n",
       "      <td>0</td>\n",
       "      <td>0</td>\n",
       "      <td>0</td>\n",
       "      <td>0</td>\n",
       "      <td>0</td>\n",
       "      <td>0</td>\n",
       "      <td>0</td>\n",
       "      <td>1</td>\n",
       "      <td>1</td>\n",
       "    </tr>\n",
       "    <tr>\n",
       "      <th>3</th>\n",
       "      <td>1015</td>\n",
       "      <td>陳惠娟</td>\n",
       "      <td>1</td>\n",
       "      <td>2021/1/15</td>\n",
       "      <td>17:37</td>\n",
       "      <td>屏東縣</td>\n",
       "      <td>品牌官網</td>\n",
       "      <td>1</td>\n",
       "      <td>1158</td>\n",
       "      <td>2</td>\n",
       "      <td>...</td>\n",
       "      <td>0</td>\n",
       "      <td>0</td>\n",
       "      <td>0</td>\n",
       "      <td>0</td>\n",
       "      <td>0</td>\n",
       "      <td>0</td>\n",
       "      <td>0</td>\n",
       "      <td>0</td>\n",
       "      <td>2</td>\n",
       "      <td>2</td>\n",
       "    </tr>\n",
       "    <tr>\n",
       "      <th>4</th>\n",
       "      <td>1017</td>\n",
       "      <td>陳煜棠</td>\n",
       "      <td>1</td>\n",
       "      <td>2021/1/15</td>\n",
       "      <td>19:17</td>\n",
       "      <td>高雄市</td>\n",
       "      <td>品牌官網</td>\n",
       "      <td>1</td>\n",
       "      <td>1647</td>\n",
       "      <td>3</td>\n",
       "      <td>...</td>\n",
       "      <td>0</td>\n",
       "      <td>0</td>\n",
       "      <td>0</td>\n",
       "      <td>0</td>\n",
       "      <td>0</td>\n",
       "      <td>0</td>\n",
       "      <td>0</td>\n",
       "      <td>0</td>\n",
       "      <td>3</td>\n",
       "      <td>3</td>\n",
       "    </tr>\n",
       "  </tbody>\n",
       "</table>\n",
       "<p>5 rows × 35 columns</p>\n",
       "</div>"
      ],
      "text/plain": [
       "   訂單編號 顧客姓名  購買次數       訂單日期   訂單時間 宅配地址(縣)  訂單來源  運費  訂單金額  訂單數量  ...  \\\n",
       "0  1011  邱啓芳     1  2021/1/15  15:41     臺南市  品牌官網   1   659     1  ...   \n",
       "1  1012  陳雅雯     1  2021/1/15  15:47     新北市  品牌官網   0  2299     7  ...   \n",
       "2  1013  鄭哲智     1  2021/1/15  16:30     屏東縣    FB   1   659     1  ...   \n",
       "3  1015  陳惠娟     1  2021/1/15  17:37     屏東縣  品牌官網   1  1158     2  ...   \n",
       "4  1017  陳煜棠     1  2021/1/15  19:17     高雄市  品牌官網   1  1647     3  ...   \n",
       "\n",
       "   海鹽巧克力BAR  花生巧克力BAR  抹茶拿鐵生巧克力  經典生巧克力  65%巧克力禮盒  75%巧克力禮盒  85%巧克力禮盒  \\\n",
       "0         0         0         0       0         0         0         0   \n",
       "1         3         0         0       0         0         0         0   \n",
       "2         0         0         0       0         0         0         0   \n",
       "3         0         0         0       0         0         0         0   \n",
       "4         0         0         0       0         0         0         0   \n",
       "\n",
       "   95%巧克力禮盒  草莓季限定款巧克力禮盒  購買數量  \n",
       "0         0            1     1  \n",
       "1         0            1     7  \n",
       "2         0            1     1  \n",
       "3         0            2     2  \n",
       "4         0            3     3  \n",
       "\n",
       "[5 rows x 35 columns]"
      ]
     },
     "execution_count": 2,
     "metadata": {},
     "output_type": "execute_result"
    }
   ],
   "source": [
    "df = pd.read_csv('TC_Data.csv')\n",
    "df.head()  # 前五筆\n",
    "# df"
   ]
  },
  {
   "cell_type": "code",
   "execution_count": 45,
   "id": "5ce52d17",
   "metadata": {},
   "outputs": [
    {
     "name": "stdout",
     "output_type": "stream",
     "text": [
      "<class 'pandas.core.frame.DataFrame'>\n",
      "RangeIndex: 286 entries, 0 to 285\n",
      "Data columns (total 35 columns):\n",
      " #   Column       Non-Null Count  Dtype \n",
      "---  ------       --------------  ----- \n",
      " 0   訂單編號         286 non-null    int64 \n",
      " 1   顧客姓名         286 non-null    object\n",
      " 2   購買次數         286 non-null    int64 \n",
      " 3   訂單日期         286 non-null    object\n",
      " 4   訂單時間         286 non-null    object\n",
      " 5   宅配地址(縣)      286 non-null    object\n",
      " 6   訂單來源         286 non-null    object\n",
      " 7   運費           286 non-null    int64 \n",
      " 8   訂單金額         286 non-null    int64 \n",
      " 9   訂單數量         286 non-null    int64 \n",
      " 10  綜合巧克力禮盒      286 non-null    int64 \n",
      " 11  柴燒黑糖巧克力      286 non-null    int64 \n",
      " 12  100%無糖巧克力磚   286 non-null    int64 \n",
      " 13  95%巧克力磚      286 non-null    int64 \n",
      " 14  85%巧克力磚      286 non-null    int64 \n",
      " 15  75%巧克力磚      286 non-null    int64 \n",
      " 16  65%巧克力磚      286 non-null    int64 \n",
      " 17  紅藜巧克力BAR     286 non-null    int64 \n",
      " 18  牛奶巧克力BAR     286 non-null    int64 \n",
      " 19  洛神花巧克力BAR    286 non-null    int64 \n",
      " 20  杏仁巧克力豆       286 non-null    int64 \n",
      " 21  天然可可豆茶       286 non-null    int64 \n",
      " 22  95%黑巧克力冰淇淋   286 non-null    int64 \n",
      " 23  烘培可可豆        286 non-null    int64 \n",
      " 24  杏仁可可瓦片       286 non-null    int64 \n",
      " 25  海鹽巧克力BAR     286 non-null    int64 \n",
      " 26  花生巧克力BAR     286 non-null    int64 \n",
      " 27  抹茶拿鐵生巧克力     286 non-null    int64 \n",
      " 28  經典生巧克力       286 non-null    int64 \n",
      " 29  65%巧克力禮盒     286 non-null    int64 \n",
      " 30  75%巧克力禮盒     286 non-null    int64 \n",
      " 31  85%巧克力禮盒     286 non-null    int64 \n",
      " 32  95%巧克力禮盒     286 non-null    int64 \n",
      " 33  草莓季限定款巧克力禮盒  286 non-null    int64 \n",
      " 34  購買數量         286 non-null    int64 \n",
      "dtypes: int64(30), object(5)\n",
      "memory usage: 78.3+ KB\n"
     ]
    }
   ],
   "source": [
    "df.info()"
   ]
  },
  {
   "cell_type": "markdown",
   "id": "dccd6d0a",
   "metadata": {},
   "source": [
    "# 2. 數據清洗"
   ]
  },
  {
   "cell_type": "code",
   "execution_count": 6,
   "id": "b3125d1e",
   "metadata": {},
   "outputs": [],
   "source": [
    "# df.drop()刪除資料\n",
    "# inplace=True 原始數據也會刪除資料\n",
    "# df.drop(colums='', inplace=True)\n",
    "# df.rename(colums={'':'', '':''}, inplace=True)"
   ]
  },
  {
   "cell_type": "code",
   "execution_count": 4,
   "id": "e41e587a",
   "metadata": {},
   "outputs": [
    {
     "data": {
      "text/plain": [
       "Index(['訂單編號', '顧客姓名', '購買次數', '訂單日期', '訂單時間', '宅配地址(縣)', '訂單來源', '運費', '訂單金額',\n",
       "       '訂單數量', '綜合巧克力禮盒', '柴燒黑糖巧克力', '100%無糖巧克力磚', '95%巧克力磚', '85%巧克力磚',\n",
       "       '75%巧克力磚', '65%巧克力磚', '紅藜巧克力BAR', '牛奶巧克力BAR', '洛神花巧克力BAR', '杏仁巧克力豆',\n",
       "       '天然可可豆茶', '95%黑巧克力冰淇淋', '烘培可可豆', '杏仁可可瓦片', '海鹽巧克力BAR', '花生巧克力BAR',\n",
       "       '抹茶拿鐵生巧克力', '經典生巧克力', '65%巧克力禮盒', '75%巧克力禮盒', '85%巧克力禮盒', '95%巧克力禮盒',\n",
       "       '草莓季限定款巧克力禮盒', '購買數量'],\n",
       "      dtype='object')"
      ]
     },
     "execution_count": 4,
     "metadata": {},
     "output_type": "execute_result"
    }
   ],
   "source": [
    "df.columns"
   ]
  },
  {
   "cell_type": "markdown",
   "id": "1027a4dd",
   "metadata": {},
   "source": [
    "## 2.1 檢查重複值"
   ]
  },
  {
   "cell_type": "code",
   "execution_count": 5,
   "id": "3d62fd38",
   "metadata": {},
   "outputs": [
    {
     "data": {
      "text/plain": [
       "0"
      ]
     },
     "execution_count": 5,
     "metadata": {},
     "output_type": "execute_result"
    }
   ],
   "source": [
    "# df.duplicated()\n",
    "df.duplicated().sum()"
   ]
  },
  {
   "cell_type": "markdown",
   "id": "b1b91b81",
   "metadata": {},
   "source": [
    "## 2.2 處理缺失值"
   ]
  },
  {
   "cell_type": "code",
   "execution_count": 6,
   "id": "26bd9e9e",
   "metadata": {},
   "outputs": [
    {
     "data": {
      "text/plain": [
       "訂單編號           0\n",
       "顧客姓名           0\n",
       "購買次數           0\n",
       "訂單日期           0\n",
       "訂單時間           0\n",
       "宅配地址(縣)        0\n",
       "訂單來源           0\n",
       "運費             0\n",
       "訂單金額           0\n",
       "訂單數量           0\n",
       "綜合巧克力禮盒        0\n",
       "柴燒黑糖巧克力        0\n",
       "100%無糖巧克力磚     0\n",
       "95%巧克力磚        0\n",
       "85%巧克力磚        0\n",
       "75%巧克力磚        0\n",
       "65%巧克力磚        0\n",
       "紅藜巧克力BAR       0\n",
       "牛奶巧克力BAR       0\n",
       "洛神花巧克力BAR      0\n",
       "杏仁巧克力豆         0\n",
       "天然可可豆茶         0\n",
       "95%黑巧克力冰淇淋     0\n",
       "烘培可可豆          0\n",
       "杏仁可可瓦片         0\n",
       "海鹽巧克力BAR       0\n",
       "花生巧克力BAR       0\n",
       "抹茶拿鐵生巧克力       0\n",
       "經典生巧克力         0\n",
       "65%巧克力禮盒       0\n",
       "75%巧克力禮盒       0\n",
       "85%巧克力禮盒       0\n",
       "95%巧克力禮盒       0\n",
       "草莓季限定款巧克力禮盒    0\n",
       "購買數量           0\n",
       "dtype: int64"
      ]
     },
     "execution_count": 6,
     "metadata": {},
     "output_type": "execute_result"
    }
   ],
   "source": [
    "# df.isnull()\n",
    "df.isnull().sum()"
   ]
  },
  {
   "cell_type": "markdown",
   "id": "84c387d0",
   "metadata": {},
   "source": [
    "## 2.3 數據格式-標準化處理"
   ]
  },
  {
   "cell_type": "code",
   "execution_count": 7,
   "id": "e3770353",
   "metadata": {},
   "outputs": [
    {
     "name": "stdout",
     "output_type": "stream",
     "text": [
      "<class 'pandas.core.frame.DataFrame'>\n",
      "RangeIndex: 286 entries, 0 to 285\n",
      "Data columns (total 35 columns):\n",
      " #   Column       Non-Null Count  Dtype         \n",
      "---  ------       --------------  -----         \n",
      " 0   訂單編號         286 non-null    int64         \n",
      " 1   顧客姓名         286 non-null    object        \n",
      " 2   購買次數         286 non-null    int64         \n",
      " 3   訂單日期         286 non-null    datetime64[ns]\n",
      " 4   訂單時間         286 non-null    object        \n",
      " 5   宅配地址(縣)      286 non-null    object        \n",
      " 6   訂單來源         286 non-null    object        \n",
      " 7   運費           286 non-null    int64         \n",
      " 8   訂單金額         286 non-null    int64         \n",
      " 9   訂單數量         286 non-null    int64         \n",
      " 10  綜合巧克力禮盒      286 non-null    int64         \n",
      " 11  柴燒黑糖巧克力      286 non-null    int64         \n",
      " 12  100%無糖巧克力磚   286 non-null    int64         \n",
      " 13  95%巧克力磚      286 non-null    int64         \n",
      " 14  85%巧克力磚      286 non-null    int64         \n",
      " 15  75%巧克力磚      286 non-null    int64         \n",
      " 16  65%巧克力磚      286 non-null    int64         \n",
      " 17  紅藜巧克力BAR     286 non-null    int64         \n",
      " 18  牛奶巧克力BAR     286 non-null    int64         \n",
      " 19  洛神花巧克力BAR    286 non-null    int64         \n",
      " 20  杏仁巧克力豆       286 non-null    int64         \n",
      " 21  天然可可豆茶       286 non-null    int64         \n",
      " 22  95%黑巧克力冰淇淋   286 non-null    int64         \n",
      " 23  烘培可可豆        286 non-null    int64         \n",
      " 24  杏仁可可瓦片       286 non-null    int64         \n",
      " 25  海鹽巧克力BAR     286 non-null    int64         \n",
      " 26  花生巧克力BAR     286 non-null    int64         \n",
      " 27  抹茶拿鐵生巧克力     286 non-null    int64         \n",
      " 28  經典生巧克力       286 non-null    int64         \n",
      " 29  65%巧克力禮盒     286 non-null    int64         \n",
      " 30  75%巧克力禮盒     286 non-null    int64         \n",
      " 31  85%巧克力禮盒     286 non-null    int64         \n",
      " 32  95%巧克力禮盒     286 non-null    int64         \n",
      " 33  草莓季限定款巧克力禮盒  286 non-null    int64         \n",
      " 34  購買數量         286 non-null    int64         \n",
      "dtypes: datetime64[ns](1), int64(30), object(4)\n",
      "memory usage: 78.3+ KB\n"
     ]
    }
   ],
   "source": [
    "df.訂單日期 = pd.to_datetime(df.訂單日期,format='%Y/%m/%d')\n",
    "df.info()"
   ]
  },
  {
   "cell_type": "markdown",
   "id": "8c043e29",
   "metadata": {},
   "source": [
    "## 2.4 異常值處理"
   ]
  },
  {
   "cell_type": "code",
   "execution_count": 51,
   "id": "c8b260da",
   "metadata": {},
   "outputs": [
    {
     "data": {
      "text/html": [
       "<div>\n",
       "<style scoped>\n",
       "    .dataframe tbody tr th:only-of-type {\n",
       "        vertical-align: middle;\n",
       "    }\n",
       "\n",
       "    .dataframe tbody tr th {\n",
       "        vertical-align: top;\n",
       "    }\n",
       "\n",
       "    .dataframe thead th {\n",
       "        text-align: right;\n",
       "    }\n",
       "</style>\n",
       "<table border=\"1\" class=\"dataframe\">\n",
       "  <thead>\n",
       "    <tr style=\"text-align: right;\">\n",
       "      <th></th>\n",
       "      <th>購買次數</th>\n",
       "      <th>訂單金額</th>\n",
       "      <th>訂單數量</th>\n",
       "    </tr>\n",
       "  </thead>\n",
       "  <tbody>\n",
       "    <tr>\n",
       "      <th>count</th>\n",
       "      <td>286.000000</td>\n",
       "      <td>286.000000</td>\n",
       "      <td>286.000000</td>\n",
       "    </tr>\n",
       "    <tr>\n",
       "      <th>mean</th>\n",
       "      <td>1.188811</td>\n",
       "      <td>1835.017483</td>\n",
       "      <td>4.213287</td>\n",
       "    </tr>\n",
       "    <tr>\n",
       "      <th>std</th>\n",
       "      <td>0.529164</td>\n",
       "      <td>1210.110398</td>\n",
       "      <td>2.882488</td>\n",
       "    </tr>\n",
       "    <tr>\n",
       "      <th>min</th>\n",
       "      <td>1.000000</td>\n",
       "      <td>460.000000</td>\n",
       "      <td>1.000000</td>\n",
       "    </tr>\n",
       "    <tr>\n",
       "      <th>25%</th>\n",
       "      <td>1.000000</td>\n",
       "      <td>1060.000000</td>\n",
       "      <td>2.000000</td>\n",
       "    </tr>\n",
       "    <tr>\n",
       "      <th>50%</th>\n",
       "      <td>1.000000</td>\n",
       "      <td>1582.000000</td>\n",
       "      <td>3.000000</td>\n",
       "    </tr>\n",
       "    <tr>\n",
       "      <th>75%</th>\n",
       "      <td>1.000000</td>\n",
       "      <td>2260.000000</td>\n",
       "      <td>5.000000</td>\n",
       "    </tr>\n",
       "    <tr>\n",
       "      <th>max</th>\n",
       "      <td>4.000000</td>\n",
       "      <td>10600.000000</td>\n",
       "      <td>19.000000</td>\n",
       "    </tr>\n",
       "  </tbody>\n",
       "</table>\n",
       "</div>"
      ],
      "text/plain": [
       "             購買次數          訂單金額        訂單數量\n",
       "count  286.000000    286.000000  286.000000\n",
       "mean     1.188811   1835.017483    4.213287\n",
       "std      0.529164   1210.110398    2.882488\n",
       "min      1.000000    460.000000    1.000000\n",
       "25%      1.000000   1060.000000    2.000000\n",
       "50%      1.000000   1582.000000    3.000000\n",
       "75%      1.000000   2260.000000    5.000000\n",
       "max      4.000000  10600.000000   19.000000"
      ]
     },
     "execution_count": 51,
     "metadata": {},
     "output_type": "execute_result"
    }
   ],
   "source": [
    "df[['購買次數' ,'訂單金額', '訂單數量']].describe()"
   ]
  },
  {
   "cell_type": "markdown",
   "id": "83a705e4",
   "metadata": {},
   "source": [
    "# 3. 分析階段"
   ]
  },
  {
   "cell_type": "markdown",
   "id": "513befdf",
   "metadata": {},
   "source": [
    "## 1. 消費情況按月分析\n",
    "### 每月消費總金額趨勢分析"
   ]
  },
  {
   "cell_type": "code",
   "execution_count": 9,
   "id": "80e7f9c0",
   "metadata": {
    "scrolled": true
   },
   "outputs": [
    {
     "data": {
      "text/html": [
       "<div>\n",
       "<style scoped>\n",
       "    .dataframe tbody tr th:only-of-type {\n",
       "        vertical-align: middle;\n",
       "    }\n",
       "\n",
       "    .dataframe tbody tr th {\n",
       "        vertical-align: top;\n",
       "    }\n",
       "\n",
       "    .dataframe thead th {\n",
       "        text-align: right;\n",
       "    }\n",
       "</style>\n",
       "<table border=\"1\" class=\"dataframe\">\n",
       "  <thead>\n",
       "    <tr style=\"text-align: right;\">\n",
       "      <th></th>\n",
       "      <th>訂單編號</th>\n",
       "      <th>顧客姓名</th>\n",
       "      <th>購買次數</th>\n",
       "      <th>訂單日期</th>\n",
       "      <th>訂單時間</th>\n",
       "      <th>宅配地址(縣)</th>\n",
       "      <th>訂單來源</th>\n",
       "      <th>運費</th>\n",
       "      <th>訂單金額</th>\n",
       "      <th>訂單數量</th>\n",
       "      <th>...</th>\n",
       "      <th>花生巧克力BAR</th>\n",
       "      <th>抹茶拿鐵生巧克力</th>\n",
       "      <th>經典生巧克力</th>\n",
       "      <th>65%巧克力禮盒</th>\n",
       "      <th>75%巧克力禮盒</th>\n",
       "      <th>85%巧克力禮盒</th>\n",
       "      <th>95%巧克力禮盒</th>\n",
       "      <th>草莓季限定款巧克力禮盒</th>\n",
       "      <th>購買數量</th>\n",
       "      <th>Month</th>\n",
       "    </tr>\n",
       "  </thead>\n",
       "  <tbody>\n",
       "    <tr>\n",
       "      <th>0</th>\n",
       "      <td>1011</td>\n",
       "      <td>邱啓芳</td>\n",
       "      <td>1</td>\n",
       "      <td>2021-01-15</td>\n",
       "      <td>15:41</td>\n",
       "      <td>臺南市</td>\n",
       "      <td>品牌官網</td>\n",
       "      <td>1</td>\n",
       "      <td>659</td>\n",
       "      <td>1</td>\n",
       "      <td>...</td>\n",
       "      <td>0</td>\n",
       "      <td>0</td>\n",
       "      <td>0</td>\n",
       "      <td>0</td>\n",
       "      <td>0</td>\n",
       "      <td>0</td>\n",
       "      <td>0</td>\n",
       "      <td>1</td>\n",
       "      <td>1</td>\n",
       "      <td>2021-01-01</td>\n",
       "    </tr>\n",
       "    <tr>\n",
       "      <th>1</th>\n",
       "      <td>1012</td>\n",
       "      <td>陳雅雯</td>\n",
       "      <td>1</td>\n",
       "      <td>2021-01-15</td>\n",
       "      <td>15:47</td>\n",
       "      <td>新北市</td>\n",
       "      <td>品牌官網</td>\n",
       "      <td>0</td>\n",
       "      <td>2299</td>\n",
       "      <td>7</td>\n",
       "      <td>...</td>\n",
       "      <td>0</td>\n",
       "      <td>0</td>\n",
       "      <td>0</td>\n",
       "      <td>0</td>\n",
       "      <td>0</td>\n",
       "      <td>0</td>\n",
       "      <td>0</td>\n",
       "      <td>1</td>\n",
       "      <td>7</td>\n",
       "      <td>2021-01-01</td>\n",
       "    </tr>\n",
       "    <tr>\n",
       "      <th>2</th>\n",
       "      <td>1013</td>\n",
       "      <td>鄭哲智</td>\n",
       "      <td>1</td>\n",
       "      <td>2021-01-15</td>\n",
       "      <td>16:30</td>\n",
       "      <td>屏東縣</td>\n",
       "      <td>FB</td>\n",
       "      <td>1</td>\n",
       "      <td>659</td>\n",
       "      <td>1</td>\n",
       "      <td>...</td>\n",
       "      <td>0</td>\n",
       "      <td>0</td>\n",
       "      <td>0</td>\n",
       "      <td>0</td>\n",
       "      <td>0</td>\n",
       "      <td>0</td>\n",
       "      <td>0</td>\n",
       "      <td>1</td>\n",
       "      <td>1</td>\n",
       "      <td>2021-01-01</td>\n",
       "    </tr>\n",
       "    <tr>\n",
       "      <th>3</th>\n",
       "      <td>1015</td>\n",
       "      <td>陳惠娟</td>\n",
       "      <td>1</td>\n",
       "      <td>2021-01-15</td>\n",
       "      <td>17:37</td>\n",
       "      <td>屏東縣</td>\n",
       "      <td>品牌官網</td>\n",
       "      <td>1</td>\n",
       "      <td>1158</td>\n",
       "      <td>2</td>\n",
       "      <td>...</td>\n",
       "      <td>0</td>\n",
       "      <td>0</td>\n",
       "      <td>0</td>\n",
       "      <td>0</td>\n",
       "      <td>0</td>\n",
       "      <td>0</td>\n",
       "      <td>0</td>\n",
       "      <td>2</td>\n",
       "      <td>2</td>\n",
       "      <td>2021-01-01</td>\n",
       "    </tr>\n",
       "    <tr>\n",
       "      <th>4</th>\n",
       "      <td>1017</td>\n",
       "      <td>陳煜棠</td>\n",
       "      <td>1</td>\n",
       "      <td>2021-01-15</td>\n",
       "      <td>19:17</td>\n",
       "      <td>高雄市</td>\n",
       "      <td>品牌官網</td>\n",
       "      <td>1</td>\n",
       "      <td>1647</td>\n",
       "      <td>3</td>\n",
       "      <td>...</td>\n",
       "      <td>0</td>\n",
       "      <td>0</td>\n",
       "      <td>0</td>\n",
       "      <td>0</td>\n",
       "      <td>0</td>\n",
       "      <td>0</td>\n",
       "      <td>0</td>\n",
       "      <td>3</td>\n",
       "      <td>3</td>\n",
       "      <td>2021-01-01</td>\n",
       "    </tr>\n",
       "    <tr>\n",
       "      <th>...</th>\n",
       "      <td>...</td>\n",
       "      <td>...</td>\n",
       "      <td>...</td>\n",
       "      <td>...</td>\n",
       "      <td>...</td>\n",
       "      <td>...</td>\n",
       "      <td>...</td>\n",
       "      <td>...</td>\n",
       "      <td>...</td>\n",
       "      <td>...</td>\n",
       "      <td>...</td>\n",
       "      <td>...</td>\n",
       "      <td>...</td>\n",
       "      <td>...</td>\n",
       "      <td>...</td>\n",
       "      <td>...</td>\n",
       "      <td>...</td>\n",
       "      <td>...</td>\n",
       "      <td>...</td>\n",
       "      <td>...</td>\n",
       "      <td>...</td>\n",
       "    </tr>\n",
       "    <tr>\n",
       "      <th>281</th>\n",
       "      <td>1380</td>\n",
       "      <td>陳家欽</td>\n",
       "      <td>1</td>\n",
       "      <td>2022-01-19</td>\n",
       "      <td>14:22</td>\n",
       "      <td>桃園市</td>\n",
       "      <td>品牌官網</td>\n",
       "      <td>0</td>\n",
       "      <td>3000</td>\n",
       "      <td>6</td>\n",
       "      <td>...</td>\n",
       "      <td>0</td>\n",
       "      <td>0</td>\n",
       "      <td>0</td>\n",
       "      <td>0</td>\n",
       "      <td>0</td>\n",
       "      <td>0</td>\n",
       "      <td>0</td>\n",
       "      <td>0</td>\n",
       "      <td>6</td>\n",
       "      <td>2022-01-01</td>\n",
       "    </tr>\n",
       "    <tr>\n",
       "      <th>282</th>\n",
       "      <td>1381</td>\n",
       "      <td>連家靖</td>\n",
       "      <td>1</td>\n",
       "      <td>2022-01-19</td>\n",
       "      <td>18:18</td>\n",
       "      <td>桃園市</td>\n",
       "      <td>品牌官網</td>\n",
       "      <td>0</td>\n",
       "      <td>1800</td>\n",
       "      <td>6</td>\n",
       "      <td>...</td>\n",
       "      <td>0</td>\n",
       "      <td>0</td>\n",
       "      <td>0</td>\n",
       "      <td>0</td>\n",
       "      <td>0</td>\n",
       "      <td>0</td>\n",
       "      <td>0</td>\n",
       "      <td>0</td>\n",
       "      <td>6</td>\n",
       "      <td>2022-01-01</td>\n",
       "    </tr>\n",
       "    <tr>\n",
       "      <th>283</th>\n",
       "      <td>1382</td>\n",
       "      <td>王建燈</td>\n",
       "      <td>3</td>\n",
       "      <td>2022-01-20</td>\n",
       "      <td>11:18</td>\n",
       "      <td>新竹市</td>\n",
       "      <td>品牌官網</td>\n",
       "      <td>0</td>\n",
       "      <td>6294</td>\n",
       "      <td>9</td>\n",
       "      <td>...</td>\n",
       "      <td>0</td>\n",
       "      <td>0</td>\n",
       "      <td>0</td>\n",
       "      <td>0</td>\n",
       "      <td>6</td>\n",
       "      <td>0</td>\n",
       "      <td>0</td>\n",
       "      <td>0</td>\n",
       "      <td>9</td>\n",
       "      <td>2022-01-01</td>\n",
       "    </tr>\n",
       "    <tr>\n",
       "      <th>284</th>\n",
       "      <td>1383</td>\n",
       "      <td>劉洵綺</td>\n",
       "      <td>4</td>\n",
       "      <td>2022-01-31</td>\n",
       "      <td>13:31</td>\n",
       "      <td>臺中市</td>\n",
       "      <td>品牌官網</td>\n",
       "      <td>1</td>\n",
       "      <td>1160</td>\n",
       "      <td>4</td>\n",
       "      <td>...</td>\n",
       "      <td>0</td>\n",
       "      <td>0</td>\n",
       "      <td>0</td>\n",
       "      <td>0</td>\n",
       "      <td>0</td>\n",
       "      <td>0</td>\n",
       "      <td>0</td>\n",
       "      <td>0</td>\n",
       "      <td>4</td>\n",
       "      <td>2022-01-01</td>\n",
       "    </tr>\n",
       "    <tr>\n",
       "      <th>285</th>\n",
       "      <td>2260</td>\n",
       "      <td>莊玉綺</td>\n",
       "      <td>1</td>\n",
       "      <td>2021-04-07</td>\n",
       "      <td>14:30</td>\n",
       "      <td>台北市</td>\n",
       "      <td>品牌官網</td>\n",
       "      <td>0</td>\n",
       "      <td>2260</td>\n",
       "      <td>7</td>\n",
       "      <td>...</td>\n",
       "      <td>0</td>\n",
       "      <td>1</td>\n",
       "      <td>1</td>\n",
       "      <td>0</td>\n",
       "      <td>0</td>\n",
       "      <td>0</td>\n",
       "      <td>0</td>\n",
       "      <td>0</td>\n",
       "      <td>7</td>\n",
       "      <td>2021-04-01</td>\n",
       "    </tr>\n",
       "  </tbody>\n",
       "</table>\n",
       "<p>286 rows × 36 columns</p>\n",
       "</div>"
      ],
      "text/plain": [
       "     訂單編號 顧客姓名  購買次數       訂單日期   訂單時間 宅配地址(縣)  訂單來源  運費  訂單金額  訂單數量  ...  \\\n",
       "0    1011  邱啓芳     1 2021-01-15  15:41     臺南市  品牌官網   1   659     1  ...   \n",
       "1    1012  陳雅雯     1 2021-01-15  15:47     新北市  品牌官網   0  2299     7  ...   \n",
       "2    1013  鄭哲智     1 2021-01-15  16:30     屏東縣    FB   1   659     1  ...   \n",
       "3    1015  陳惠娟     1 2021-01-15  17:37     屏東縣  品牌官網   1  1158     2  ...   \n",
       "4    1017  陳煜棠     1 2021-01-15  19:17     高雄市  品牌官網   1  1647     3  ...   \n",
       "..    ...  ...   ...        ...    ...     ...   ...  ..   ...   ...  ...   \n",
       "281  1380  陳家欽     1 2022-01-19  14:22     桃園市  品牌官網   0  3000     6  ...   \n",
       "282  1381  連家靖     1 2022-01-19  18:18     桃園市  品牌官網   0  1800     6  ...   \n",
       "283  1382  王建燈     3 2022-01-20  11:18     新竹市  品牌官網   0  6294     9  ...   \n",
       "284  1383  劉洵綺     4 2022-01-31  13:31     臺中市  品牌官網   1  1160     4  ...   \n",
       "285  2260  莊玉綺     1 2021-04-07  14:30     台北市  品牌官網   0  2260     7  ...   \n",
       "\n",
       "     花生巧克力BAR  抹茶拿鐵生巧克力  經典生巧克力  65%巧克力禮盒  75%巧克力禮盒  85%巧克力禮盒  95%巧克力禮盒  \\\n",
       "0           0         0       0         0         0         0         0   \n",
       "1           0         0       0         0         0         0         0   \n",
       "2           0         0       0         0         0         0         0   \n",
       "3           0         0       0         0         0         0         0   \n",
       "4           0         0       0         0         0         0         0   \n",
       "..        ...       ...     ...       ...       ...       ...       ...   \n",
       "281         0         0       0         0         0         0         0   \n",
       "282         0         0       0         0         0         0         0   \n",
       "283         0         0       0         0         6         0         0   \n",
       "284         0         0       0         0         0         0         0   \n",
       "285         0         1       1         0         0         0         0   \n",
       "\n",
       "     草莓季限定款巧克力禮盒  購買數量      Month  \n",
       "0              1     1 2021-01-01  \n",
       "1              1     7 2021-01-01  \n",
       "2              1     1 2021-01-01  \n",
       "3              2     2 2021-01-01  \n",
       "4              3     3 2021-01-01  \n",
       "..           ...   ...        ...  \n",
       "281            0     6 2022-01-01  \n",
       "282            0     6 2022-01-01  \n",
       "283            0     9 2022-01-01  \n",
       "284            0     4 2022-01-01  \n",
       "285            0     7 2021-04-01  \n",
       "\n",
       "[286 rows x 36 columns]"
      ]
     },
     "execution_count": 9,
     "metadata": {},
     "output_type": "execute_result"
    }
   ],
   "source": [
    "df['Month']=df.訂單日期.astype('datetime64[M]')\n",
    "# df.head()\n",
    "df"
   ]
  },
  {
   "cell_type": "code",
   "execution_count": 53,
   "id": "0eae72b2",
   "metadata": {},
   "outputs": [],
   "source": [
    "grouped_month = df.groupby('Month')"
   ]
  },
  {
   "cell_type": "code",
   "execution_count": 54,
   "id": "227b6513",
   "metadata": {},
   "outputs": [
    {
     "data": {
      "text/plain": [
       "Month\n",
       "2021-01-01    208712\n",
       "2021-02-01    124959\n",
       "2021-03-01     18518\n",
       "2021-04-01      8170\n",
       "2021-05-01     12836\n",
       "2021-06-01     16927\n",
       "2021-07-01     33700\n",
       "2021-08-01     23130\n",
       "2021-09-01      4040\n",
       "2021-10-01     14360\n",
       "2021-11-01     13579\n",
       "2021-12-01     18400\n",
       "2022-01-01     27484\n",
       "Name: 訂單金額, dtype: int64"
      ]
     },
     "execution_count": 54,
     "metadata": {},
     "output_type": "execute_result"
    }
   ],
   "source": [
    "grouped_month.訂單金額.sum()"
   ]
  },
  {
   "cell_type": "markdown",
   "id": "1641681e",
   "metadata": {},
   "source": [
    "### 每月訂單金額折線圖"
   ]
  },
  {
   "cell_type": "code",
   "execution_count": 55,
   "id": "40b637ed",
   "metadata": {},
   "outputs": [
    {
     "data": {
      "text/plain": [
       "<AxesSubplot:xlabel='Month'>"
      ]
     },
     "execution_count": 55,
     "metadata": {},
     "output_type": "execute_result"
    },
    {
     "data": {
      "image/png": "[encoded data removed]",
      "text/plain": [
       "<Figure size 432x288 with 1 Axes>"
      ]
     },
     "metadata": {},
     "output_type": "display_data"
    }
   ],
   "source": [
    "grouped_month.訂單金額.sum().plot()"
   ]
  },
  {
   "cell_type": "markdown",
   "id": "6d1b05d3",
   "metadata": {},
   "source": [
    "### 每月訂單數量折線圖"
   ]
  },
  {
   "cell_type": "code",
   "execution_count": 56,
   "id": "7c6546df",
   "metadata": {},
   "outputs": [
    {
     "data": {
      "text/plain": [
       "<AxesSubplot:xlabel='Month'>"
      ]
     },
     "execution_count": 56,
     "metadata": {},
     "output_type": "execute_result"
    },
    {
     "data": {
      "image/png": "[encoded data removed]",
      "text/plain": [
       "<Figure size 432x288 with 1 Axes>"
      ]
     },
     "metadata": {},
     "output_type": "display_data"
    }
   ],
   "source": [
    "grouped_month.訂單編號.nunique().head(12).plot()"
   ]
  },
  {
   "cell_type": "markdown",
   "id": "35f9a94a",
   "metadata": {},
   "source": [
    "### 用戶分佈分析"
   ]
  },
  {
   "cell_type": "code",
   "execution_count": 57,
   "id": "7b757716",
   "metadata": {},
   "outputs": [
    {
     "data": {
      "text/plain": [
       "<AxesSubplot:>"
      ]
     },
     "execution_count": 57,
     "metadata": {},
     "output_type": "execute_result"
    },
    {
     "data": {
      "image/png": "[encoded data removed]",
      "text/plain": [
       "<Figure size 432x288 with 1 Axes>"
      ]
     },
     "metadata": {},
     "output_type": "display_data"
    }
   ],
   "source": [
    "df.groupby('顧客姓名').訂單日期.min().value_counts().plot()"
   ]
  },
  {
   "cell_type": "markdown",
   "id": "3934db92",
   "metadata": {},
   "source": [
    "### 新用戶每月人數"
   ]
  },
  {
   "cell_type": "code",
   "execution_count": 58,
   "id": "d3527810",
   "metadata": {},
   "outputs": [
    {
     "data": {
      "text/plain": [
       "<AxesSubplot:>"
      ]
     },
     "execution_count": 58,
     "metadata": {},
     "output_type": "execute_result"
    },
    {
     "data": {
      "image/png": "[encoded data removed]",
      "text/plain": [
       "<Figure size 432x288 with 1 Axes>"
      ]
     },
     "metadata": {},
     "output_type": "display_data"
    }
   ],
   "source": [
    "df.groupby('顧客姓名').Month.min().value_counts().plot()"
   ]
  },
  {
   "cell_type": "markdown",
   "id": "b3fa4a75",
   "metadata": {},
   "source": [
    "# 4. 用戶分層分析"
   ]
  },
  {
   "cell_type": "markdown",
   "id": "b2a7d291",
   "metadata": {},
   "source": [
    "## RFM分層分析\n",
    "### Recency（上次消費的日期）、Frequency（消費頻率）、Monetary（消費金額）\n",
    "- Recency（上次消費的日期）近期有消費過的顧客，會是最有可能再次回購的人，因此可以針對這群人發放折價優惠或是商品訊息。\n",
    "- Frequency（消費頻率）\n",
    "消費頻率越高的人就越有可能是品牌的忠誠顧客，也因此可以透過行銷策略，持續提高這群人的購買意願。\n",
    "- Monetary（消費金額）\n",
    "消費金額的多寡過去常被視為較重要的要素，但是結合 Recency、Frequency 就會是一個完整的顧客消費輪廓。\n",
    "未來若是要採用分眾行銷，RFM 模型就會是個參考依據。"
   ]
  },
  {
   "cell_type": "code",
   "execution_count": null,
   "id": "d20ee0e7",
   "metadata": {},
   "outputs": [],
   "source": [
    "select distinct "
   ]
  },
  {
   "cell_type": "code",
   "execution_count": 59,
   "id": "58e7a6b1",
   "metadata": {},
   "outputs": [],
   "source": [
    "pivot_rfm = df.pivot_table(index='顧客姓名',\n",
    "                          values=['訂單日期', '購買次數', '訂單金額'],\n",
    "                          aggfunc={'訂單日期':'max' , '購買次數':'nunique', '訂單金額':'sum'})"
   ]
  },
  {
   "cell_type": "code",
   "execution_count": 60,
   "id": "cc6b6f85",
   "metadata": {},
   "outputs": [],
   "source": [
    "pivot_rfm['R'] = (pivot_rfm.訂單日期.max() - pivot_rfm.訂單日期)/np.timedelta64(1, 'D')\n",
    "pivot_rfm.rename(columns={'購買次數':'F', '訂單金額':'M'}, inplace=True)"
   ]
  },
  {
   "cell_type": "code",
   "execution_count": 61,
   "id": "364e81f9",
   "metadata": {},
   "outputs": [],
   "source": [
    "def label_func(df):\n",
    "    label = df.apply(lambda x:'1' if x > 0 else '0')\n",
    "    label = label.R + label.F + label.M\n",
    "    labels = {\n",
    "        '111':'重要價值客戶important value',\n",
    "        '011':'重要保持客戶important keep',\n",
    "        '101':'重要發展客戶important develop',\n",
    "        '001':'重要挽留客戶important retain',\n",
    "        '110':'一般價值客戶generally value',\n",
    "        '010':'一般保持客戶generally keep',\n",
    "        '100':'一般發展客戶generally develop',\n",
    "        '000':'一般挽留客戶generally retain'\n",
    "    }\n",
    "    return labels[label]\n",
    "pivot_rfm['label'] = pivot_rfm[['R','F','M']].apply(lambda x:x-x.mean()).apply(label_func, axis=1)"
   ]
  },
  {
   "cell_type": "code",
   "execution_count": 81,
   "id": "7daa4451",
   "metadata": {},
   "outputs": [
    {
     "data": {
      "text/plain": [
       "<AxesSubplot:>"
      ]
     },
     "execution_count": 81,
     "metadata": {},
     "output_type": "execute_result"
    },
    {
     "data": {
      "image/png": "[encoded data removed]",
      "text/plain": [
       "<Figure size 432x288 with 1 Axes>"
      ]
     },
     "metadata": {},
     "output_type": "display_data"
    }
   ],
   "source": [
    "pivot_rfm.label.value_counts().plot.barh()"
   ]
  },
  {
   "cell_type": "markdown",
   "id": "8dc87cfd",
   "metadata": {},
   "source": [
    "## 客戶分層消費金額占比"
   ]
  },
  {
   "cell_type": "code",
   "execution_count": 80,
   "id": "c94bf3ec",
   "metadata": {},
   "outputs": [
    {
     "data": {
      "text/plain": [
       "<AxesSubplot:ylabel='M'>"
      ]
     },
     "execution_count": 80,
     "metadata": {},
     "output_type": "execute_result"
    },
    {
     "data": {
      "image/png": "[encoded data removed]",
      "text/plain": [
       "<Figure size 432x432 with 1 Axes>"
      ]
     },
     "metadata": {},
     "output_type": "display_data"
    }
   ],
   "source": [
    "pivot_rfm.groupby('label').M.sum().plot.pie(figsize=(6,6), autopct='%3.2f%%')"
   ]
  },
  {
   "cell_type": "code",
   "execution_count": 65,
   "id": "29f6bce1",
   "metadata": {},
   "outputs": [
    {
     "data": {
      "text/html": [
       "<div>\n",
       "<style scoped>\n",
       "    .dataframe tbody tr th:only-of-type {\n",
       "        vertical-align: middle;\n",
       "    }\n",
       "\n",
       "    .dataframe tbody tr th {\n",
       "        vertical-align: top;\n",
       "    }\n",
       "\n",
       "    .dataframe thead tr th {\n",
       "        text-align: left;\n",
       "    }\n",
       "\n",
       "    .dataframe thead tr:last-of-type th {\n",
       "        text-align: right;\n",
       "    }\n",
       "</style>\n",
       "<table border=\"1\" class=\"dataframe\">\n",
       "  <thead>\n",
       "    <tr>\n",
       "      <th></th>\n",
       "      <th colspan=\"2\" halign=\"left\">M</th>\n",
       "      <th colspan=\"2\" halign=\"left\">F</th>\n",
       "      <th colspan=\"2\" halign=\"left\">R</th>\n",
       "    </tr>\n",
       "    <tr>\n",
       "      <th></th>\n",
       "      <th>sum</th>\n",
       "      <th>count</th>\n",
       "      <th>sum</th>\n",
       "      <th>count</th>\n",
       "      <th>sum</th>\n",
       "      <th>count</th>\n",
       "    </tr>\n",
       "    <tr>\n",
       "      <th>label</th>\n",
       "      <th></th>\n",
       "      <th></th>\n",
       "      <th></th>\n",
       "      <th></th>\n",
       "      <th></th>\n",
       "      <th></th>\n",
       "    </tr>\n",
       "  </thead>\n",
       "  <tbody>\n",
       "    <tr>\n",
       "      <th>一般挽留客戶generally retain</th>\n",
       "      <td>58838</td>\n",
       "      <td>46</td>\n",
       "      <td>46</td>\n",
       "      <td>46</td>\n",
       "      <td>6738.0</td>\n",
       "      <td>46</td>\n",
       "    </tr>\n",
       "    <tr>\n",
       "      <th>一般發展客戶generally develop</th>\n",
       "      <td>120872</td>\n",
       "      <td>108</td>\n",
       "      <td>108</td>\n",
       "      <td>108</td>\n",
       "      <td>39676.0</td>\n",
       "      <td>108</td>\n",
       "    </tr>\n",
       "    <tr>\n",
       "      <th>重要挽留客戶important retain</th>\n",
       "      <td>125376</td>\n",
       "      <td>31</td>\n",
       "      <td>31</td>\n",
       "      <td>31</td>\n",
       "      <td>4427.0</td>\n",
       "      <td>31</td>\n",
       "    </tr>\n",
       "    <tr>\n",
       "      <th>重要發展客戶important develop</th>\n",
       "      <td>219729</td>\n",
       "      <td>79</td>\n",
       "      <td>79</td>\n",
       "      <td>79</td>\n",
       "      <td>28854.0</td>\n",
       "      <td>79</td>\n",
       "    </tr>\n",
       "  </tbody>\n",
       "</table>\n",
       "</div>"
      ],
      "text/plain": [
       "                              M          F              R      \n",
       "                            sum count  sum count      sum count\n",
       "label                                                          \n",
       "一般挽留客戶generally retain    58838    46   46    46   6738.0    46\n",
       "一般發展客戶generally develop  120872   108  108   108  39676.0   108\n",
       "重要挽留客戶important retain   125376    31   31    31   4427.0    31\n",
       "重要發展客戶important develop  219729    79   79    79  28854.0    79"
      ]
     },
     "execution_count": 65,
     "metadata": {},
     "output_type": "execute_result"
    }
   ],
   "source": [
    "pivot_rfm.groupby('label').agg(['sum','count'])"
   ]
  },
  {
   "cell_type": "markdown",
   "id": "773419b0",
   "metadata": {},
   "source": [
    "銷售額主要來源為重要發展客戶,人數佔比最高的為一般發展客戶\n",
    "\n",
    "重要保持客戶:\n",
    "重要價值客戶:\n",
    "重要發展客戶:銷售額的主要來源,人數佔比次高,近期有消費,且消費高,消費頻率不足,可以適當舉行營銷活動,提升此層客戶的購買頻率\n",
    "重要挽留客戶:銷售額次高,但頻次低目近期末消費,處在流失的邊緣,可以通過適當活動,使其參與到消費中來,防止流失\n",
    "一般價值客戶:\n",
    "一般發展客戶:人數佔比最高,近期有消費,但消費額以及消費頻次不高考慮到人教佔比高,可以話當舉辦活動提升消費頻次和消費額\n",
    "一般保持客戶:\n",
    "一般挽留客戶:在成本與資源控制下,酌情考慮"
   ]
  },
  {
   "cell_type": "markdown",
   "id": "4921fda2",
   "metadata": {},
   "source": [
    "## 用戶狀態分層分析"
   ]
  },
  {
   "cell_type": "code",
   "execution_count": 68,
   "id": "128726f9",
   "metadata": {},
   "outputs": [],
   "source": [
    "pivoted_status = df.pivot_table(index='顧客姓名', columns='Month', values='訂單日期', aggfunc='count').fillna(0)"
   ]
  },
  {
   "cell_type": "code",
   "execution_count": 71,
   "id": "c3955d08",
   "metadata": {},
   "outputs": [],
   "source": [
    "def active_status(df):\n",
    "    status = []\n",
    "    for i in range(len(df)):\n",
    "        # 若本月沒消費\n",
    "        if df[i] == 0:\n",
    "            if len(status) > 0:\n",
    "                if status[i-1] == 'unreg':\n",
    "                    status.append('unreg')\n",
    "                else:\n",
    "                    status.append('unactive')\n",
    "            else:\n",
    "                status.append('unreg')\n",
    "        # 若本月有消費\n",
    "        else:\n",
    "            if len(status) > 0:\n",
    "                if status[i-1] == 'unreg':\n",
    "                    status.append('new')\n",
    "                elif status[i-1] == 'unactive':\n",
    "                    status.append('return')\n",
    "                else:\n",
    "                    status.append('active')\n",
    "            else:\n",
    "                status.append('new')\n",
    "    status = pd.Series(status, index = df.index)\n",
    "    return status"
   ]
  },
  {
   "cell_type": "code",
   "execution_count": 72,
   "id": "f87d627c",
   "metadata": {},
   "outputs": [],
   "source": [
    "active_status = pivoted_status.apply(active_status, axis=1)"
   ]
  },
  {
   "cell_type": "code",
   "execution_count": 77,
   "id": "d2eb4da5",
   "metadata": {},
   "outputs": [
    {
     "data": {
      "text/plain": [
       "<AxesSubplot:xlabel='Month'>"
      ]
     },
     "execution_count": 77,
     "metadata": {},
     "output_type": "execute_result"
    },
    {
     "data": {
      "image/png": "[encoded data removed]",
      "text/plain": [
       "<Figure size 432x288 with 1 Axes>"
      ]
     },
     "metadata": {},
     "output_type": "display_data"
    }
   ],
   "source": [
    "active_status.replace('unreg', np.nan).apply(lambda x:x.value_counts()).fillna(0).T.apply(lambda x:x/x.sum(),axis=1).plot()"
   ]
  },
  {
   "cell_type": "markdown",
   "id": "d58ff95b",
   "metadata": {},
   "source": [
    "- 新用戶(藍)：新用戶佔比呈明顯下降趨勢,說明拉新客戶行銷不足\n",
    "- 活躍用戶(橘)：消費運營持續低落,說明消費營運持續下滑\n",
    "- 不活躍用戶(灰)：不活躍用戶呈明顯上升趨勢,客戶流失較為明顯\n",
    "- 回流客戶(紫)：消費運營持續低落,說明召回營運效果不佳"
   ]
  }
 ],
 "metadata": {
  "kernelspec": {
   "display_name": "Python 3",
   "language": "python",
   "name": "python3"
  },
  "language_info": {
   "codemirror_mode": {
    "name": "ipython",
    "version": 3
   },
   "file_extension": ".py",
   "mimetype": "text/x-python",
   "name": "python",
   "nbconvert_exporter": "python",
   "pygments_lexer": "ipython3",
   "version": "3.6.13"
  }
 },
 "nbformat": 4,
 "nbformat_minor": 5
}
